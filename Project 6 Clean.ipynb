{
 "cells": [
  {
   "cell_type": "markdown",
   "id": "0d034f7e",
   "metadata": {},
   "source": [
    "## Introduction"
   ]
  },
  {
   "cell_type": "markdown",
   "id": "68a9b942",
   "metadata": {},
   "source": [
    "This an analysis of users' visits and orders of a big online store. Together with the marketing department, I've compiled a list of hypotheses that may help boost the store's revenue.\n",
    "Hereinafter I will prioritize the hypotheses, launch an A/B test and analyze the results."
   ]
  },
  {
   "cell_type": "markdown",
   "id": "08b32c4e",
   "metadata": {},
   "source": [
    "## Description of Data"
   ]
  },
  {
   "cell_type": "markdown",
   "id": "117a61cd",
   "metadata": {},
   "source": [
    "The Data in this analysis is in three data frames: \n",
    "\n",
    "1. Hypotheses:\n",
    "\n",
    "* Hypotheses — brief descriptions of the hypotheses;\n",
    "\n",
    "* Reach — user reach, on a scale of one to ten;\n",
    "\n",
    "* Impact — impact on users, on a scale of one to ten;\n",
    "\n",
    "* Confidence — confidence in the hypothesis, on a scale of one to ten;\n",
    "\n",
    "* Effort — the resources required to test a hypothesis, on a scale of one to ten. The higher the Effort value, the more resource-intensive the test.\n",
    "\n",
    "2. Orders:\n",
    "\n",
    "* transactionId — order identifier;\n",
    "\n",
    "* visitorId — identifier of the user who placed the order;\n",
    "\n",
    "* date — of the order;\n",
    "\n",
    "* revenue — from the order;\n",
    "\n",
    "* group — the A/B test group that the user belongs to.\n",
    "\n",
    "3. Visits:\n",
    "\n",
    "* date — date;\n",
    "\n",
    "* group — A/B test group;\n",
    "\n",
    "* visits — the number of visits on the date specified in the A/B test group specified."
   ]
  },
  {
   "cell_type": "markdown",
   "id": "c06eb58c",
   "metadata": {},
   "source": [
    "## Loading and Initial Exploration of the Data"
   ]
  },
  {
   "cell_type": "code",
   "execution_count": 1,
   "id": "fb0cf547",
   "metadata": {},
   "outputs": [],
   "source": [
    "import pandas as pd\n",
    "import random\n",
    "#import sidetable\n",
    "import math as mt\n",
    "import matplotlib\n",
    "import numpy as np\n",
    "import datetime as dt\n",
    "import seaborn as sns\n",
    "from scipy import stats\n",
    "from random import sample\n",
    "from functools import reduce\n",
    "from scipy import stats as st\n",
    "from scipy.stats import levene\n",
    "import matplotlib.pyplot as plt\n",
    "from itertools import chain,cycle\n",
    "from IPython.display import display_html"
   ]
  },
  {
   "cell_type": "code",
   "execution_count": 2,
   "id": "2ae46eeb",
   "metadata": {},
   "outputs": [],
   "source": [
    "hypotheses = pd.read_csv('/Users/doronerlich/Desktop/Code ME/Course Project 6/hypotheses_us.csv', sep=';')\n",
    "orders = pd.read_csv('/Users/doronerlich/Desktop/Code ME/Course Project 6/orders_us.csv')\n",
    "visits = pd.read_csv('/Users/doronerlich/Desktop/Code ME/Course Project 6/visits_us.csv')"
   ]
  },
  {
   "cell_type": "markdown",
   "id": "1bb50e14",
   "metadata": {},
   "source": [
    "Above I loaded the three data frames, named them \"hypotheses\", \"orders\" and \"visits\" and separated the columns in the the \"hypotheses\" data frame. \n",
    "\n",
    "Hereinafter I will do a short exploration of the data frames. "
   ]
  },
  {
   "cell_type": "code",
   "execution_count": 3,
   "id": "70ecf55d",
   "metadata": {},
   "outputs": [
    {
     "name": "stdout",
     "output_type": "stream",
     "text": [
      "<class 'pandas.core.frame.DataFrame'>\n",
      "RangeIndex: 9 entries, 0 to 8\n",
      "Data columns (total 5 columns):\n",
      " #   Column      Non-Null Count  Dtype \n",
      "---  ------      --------------  ----- \n",
      " 0   Hypothesis  9 non-null      object\n",
      " 1   Reach       9 non-null      int64 \n",
      " 2   Impact      9 non-null      int64 \n",
      " 3   Confidence  9 non-null      int64 \n",
      " 4   Effort      9 non-null      int64 \n",
      "dtypes: int64(4), object(1)\n",
      "memory usage: 488.0+ bytes\n"
     ]
    }
   ],
   "source": [
    "hypotheses.info('deep')"
   ]
  },
  {
   "cell_type": "code",
   "execution_count": 4,
   "id": "e54fcfe9",
   "metadata": {},
   "outputs": [
    {
     "data": {
      "text/html": [
       "<div>\n",
       "<style scoped>\n",
       "    .dataframe tbody tr th:only-of-type {\n",
       "        vertical-align: middle;\n",
       "    }\n",
       "\n",
       "    .dataframe tbody tr th {\n",
       "        vertical-align: top;\n",
       "    }\n",
       "\n",
       "    .dataframe thead th {\n",
       "        text-align: right;\n",
       "    }\n",
       "</style>\n",
       "<table border=\"1\" class=\"dataframe\">\n",
       "  <thead>\n",
       "    <tr style=\"text-align: right;\">\n",
       "      <th></th>\n",
       "      <th>count</th>\n",
       "      <th>unique</th>\n",
       "      <th>top</th>\n",
       "      <th>freq</th>\n",
       "      <th>mean</th>\n",
       "      <th>std</th>\n",
       "      <th>min</th>\n",
       "      <th>25%</th>\n",
       "      <th>50%</th>\n",
       "      <th>75%</th>\n",
       "      <th>max</th>\n",
       "    </tr>\n",
       "  </thead>\n",
       "  <tbody>\n",
       "    <tr>\n",
       "      <th>Hypothesis</th>\n",
       "      <td>9</td>\n",
       "      <td>9</td>\n",
       "      <td>Add two new channels for attracting traffic. T...</td>\n",
       "      <td>1</td>\n",
       "      <td>N/A</td>\n",
       "      <td>N/A</td>\n",
       "      <td>N/A</td>\n",
       "      <td>N/A</td>\n",
       "      <td>N/A</td>\n",
       "      <td>N/A</td>\n",
       "      <td>N/A</td>\n",
       "    </tr>\n",
       "    <tr>\n",
       "      <th>Reach</th>\n",
       "      <td>9.0</td>\n",
       "      <td>N/A</td>\n",
       "      <td>N/A</td>\n",
       "      <td>N/A</td>\n",
       "      <td>4.777778</td>\n",
       "      <td>3.153481</td>\n",
       "      <td>1.0</td>\n",
       "      <td>3.0</td>\n",
       "      <td>3.0</td>\n",
       "      <td>8.0</td>\n",
       "      <td>10.0</td>\n",
       "    </tr>\n",
       "    <tr>\n",
       "      <th>Impact</th>\n",
       "      <td>9.0</td>\n",
       "      <td>N/A</td>\n",
       "      <td>N/A</td>\n",
       "      <td>N/A</td>\n",
       "      <td>4.777778</td>\n",
       "      <td>3.192874</td>\n",
       "      <td>1.0</td>\n",
       "      <td>3.0</td>\n",
       "      <td>3.0</td>\n",
       "      <td>7.0</td>\n",
       "      <td>10.0</td>\n",
       "    </tr>\n",
       "    <tr>\n",
       "      <th>Confidence</th>\n",
       "      <td>9.0</td>\n",
       "      <td>N/A</td>\n",
       "      <td>N/A</td>\n",
       "      <td>N/A</td>\n",
       "      <td>5.555556</td>\n",
       "      <td>3.045944</td>\n",
       "      <td>1.0</td>\n",
       "      <td>3.0</td>\n",
       "      <td>7.0</td>\n",
       "      <td>8.0</td>\n",
       "      <td>9.0</td>\n",
       "    </tr>\n",
       "    <tr>\n",
       "      <th>Effort</th>\n",
       "      <td>9.0</td>\n",
       "      <td>N/A</td>\n",
       "      <td>N/A</td>\n",
       "      <td>N/A</td>\n",
       "      <td>4.888889</td>\n",
       "      <td>2.803767</td>\n",
       "      <td>1.0</td>\n",
       "      <td>3.0</td>\n",
       "      <td>5.0</td>\n",
       "      <td>6.0</td>\n",
       "      <td>10.0</td>\n",
       "    </tr>\n",
       "  </tbody>\n",
       "</table>\n",
       "</div>"
      ],
      "text/plain": [
       "           count unique                                                top  \\\n",
       "Hypothesis     9      9  Add two new channels for attracting traffic. T...   \n",
       "Reach        9.0    N/A                                                N/A   \n",
       "Impact       9.0    N/A                                                N/A   \n",
       "Confidence   9.0    N/A                                                N/A   \n",
       "Effort       9.0    N/A                                                N/A   \n",
       "\n",
       "           freq      mean       std  min  25%  50%  75%   max  \n",
       "Hypothesis    1       N/A       N/A  N/A  N/A  N/A  N/A   N/A  \n",
       "Reach       N/A  4.777778  3.153481  1.0  3.0  3.0  8.0  10.0  \n",
       "Impact      N/A  4.777778  3.192874  1.0  3.0  3.0  7.0  10.0  \n",
       "Confidence  N/A  5.555556  3.045944  1.0  3.0  7.0  8.0   9.0  \n",
       "Effort      N/A  4.888889  2.803767  1.0  3.0  5.0  6.0  10.0  "
      ]
     },
     "execution_count": 4,
     "metadata": {},
     "output_type": "execute_result"
    }
   ],
   "source": [
    "hypotheses.describe(include='all', datetime_is_numeric=True).fillna('N/A').T"
   ]
  },
  {
   "cell_type": "code",
   "execution_count": 5,
   "id": "332fe19d",
   "metadata": {},
   "outputs": [
    {
     "data": {
      "text/html": [
       "<div>\n",
       "<style scoped>\n",
       "    .dataframe tbody tr th:only-of-type {\n",
       "        vertical-align: middle;\n",
       "    }\n",
       "\n",
       "    .dataframe tbody tr th {\n",
       "        vertical-align: top;\n",
       "    }\n",
       "\n",
       "    .dataframe thead th {\n",
       "        text-align: right;\n",
       "    }\n",
       "</style>\n",
       "<table border=\"1\" class=\"dataframe\">\n",
       "  <thead>\n",
       "    <tr style=\"text-align: right;\">\n",
       "      <th></th>\n",
       "      <th>Hypothesis</th>\n",
       "      <th>Reach</th>\n",
       "      <th>Impact</th>\n",
       "      <th>Confidence</th>\n",
       "      <th>Effort</th>\n",
       "    </tr>\n",
       "  </thead>\n",
       "  <tbody>\n",
       "    <tr>\n",
       "      <th>0</th>\n",
       "      <td>Add two new channels for attracting traffic. T...</td>\n",
       "      <td>3</td>\n",
       "      <td>10</td>\n",
       "      <td>8</td>\n",
       "      <td>6</td>\n",
       "    </tr>\n",
       "    <tr>\n",
       "      <th>1</th>\n",
       "      <td>Launch your own delivery service. This will sh...</td>\n",
       "      <td>2</td>\n",
       "      <td>5</td>\n",
       "      <td>4</td>\n",
       "      <td>10</td>\n",
       "    </tr>\n",
       "    <tr>\n",
       "      <th>2</th>\n",
       "      <td>Add product recommendation blocks to the store...</td>\n",
       "      <td>8</td>\n",
       "      <td>3</td>\n",
       "      <td>7</td>\n",
       "      <td>3</td>\n",
       "    </tr>\n",
       "    <tr>\n",
       "      <th>3</th>\n",
       "      <td>Change the category structure. This will incre...</td>\n",
       "      <td>8</td>\n",
       "      <td>3</td>\n",
       "      <td>3</td>\n",
       "      <td>8</td>\n",
       "    </tr>\n",
       "    <tr>\n",
       "      <th>4</th>\n",
       "      <td>Change the background color on the main page. ...</td>\n",
       "      <td>3</td>\n",
       "      <td>1</td>\n",
       "      <td>1</td>\n",
       "      <td>1</td>\n",
       "    </tr>\n",
       "  </tbody>\n",
       "</table>\n",
       "</div>"
      ],
      "text/plain": [
       "                                          Hypothesis  Reach  Impact  \\\n",
       "0  Add two new channels for attracting traffic. T...      3      10   \n",
       "1  Launch your own delivery service. This will sh...      2       5   \n",
       "2  Add product recommendation blocks to the store...      8       3   \n",
       "3  Change the category structure. This will incre...      8       3   \n",
       "4  Change the background color on the main page. ...      3       1   \n",
       "\n",
       "   Confidence  Effort  \n",
       "0           8       6  \n",
       "1           4      10  \n",
       "2           7       3  \n",
       "3           3       8  \n",
       "4           1       1  "
      ]
     },
     "execution_count": 5,
     "metadata": {},
     "output_type": "execute_result"
    }
   ],
   "source": [
    "hypotheses.head()"
   ]
  },
  {
   "cell_type": "markdown",
   "id": "bedb8e30",
   "metadata": {},
   "source": [
    "As we can see, in the \"hypotheses\" data frame we have 9 rows and 5 columns. This data frame seems intact. "
   ]
  },
  {
   "cell_type": "code",
   "execution_count": 6,
   "id": "49603674",
   "metadata": {},
   "outputs": [
    {
     "name": "stdout",
     "output_type": "stream",
     "text": [
      "<class 'pandas.core.frame.DataFrame'>\n",
      "RangeIndex: 1197 entries, 0 to 1196\n",
      "Data columns (total 5 columns):\n",
      " #   Column         Non-Null Count  Dtype  \n",
      "---  ------         --------------  -----  \n",
      " 0   transactionId  1197 non-null   int64  \n",
      " 1   visitorId      1197 non-null   int64  \n",
      " 2   date           1197 non-null   object \n",
      " 3   revenue        1197 non-null   float64\n",
      " 4   group          1197 non-null   object \n",
      "dtypes: float64(1), int64(2), object(2)\n",
      "memory usage: 46.9+ KB\n"
     ]
    }
   ],
   "source": [
    "orders.info('deep')"
   ]
  },
  {
   "cell_type": "code",
   "execution_count": 7,
   "id": "f582c20f",
   "metadata": {},
   "outputs": [
    {
     "data": {
      "text/html": [
       "<div>\n",
       "<style scoped>\n",
       "    .dataframe tbody tr th:only-of-type {\n",
       "        vertical-align: middle;\n",
       "    }\n",
       "\n",
       "    .dataframe tbody tr th {\n",
       "        vertical-align: top;\n",
       "    }\n",
       "\n",
       "    .dataframe thead th {\n",
       "        text-align: right;\n",
       "    }\n",
       "</style>\n",
       "<table border=\"1\" class=\"dataframe\">\n",
       "  <thead>\n",
       "    <tr style=\"text-align: right;\">\n",
       "      <th></th>\n",
       "      <th>count</th>\n",
       "      <th>unique</th>\n",
       "      <th>top</th>\n",
       "      <th>freq</th>\n",
       "      <th>mean</th>\n",
       "      <th>std</th>\n",
       "      <th>min</th>\n",
       "      <th>25%</th>\n",
       "      <th>50%</th>\n",
       "      <th>75%</th>\n",
       "      <th>max</th>\n",
       "    </tr>\n",
       "  </thead>\n",
       "  <tbody>\n",
       "    <tr>\n",
       "      <th>transactionId</th>\n",
       "      <td>1197.0</td>\n",
       "      <td>N/A</td>\n",
       "      <td>N/A</td>\n",
       "      <td>N/A</td>\n",
       "      <td>2155621385.529657</td>\n",
       "      <td>1229084904.760058</td>\n",
       "      <td>1062393.0</td>\n",
       "      <td>1166775572.0</td>\n",
       "      <td>2145193898.0</td>\n",
       "      <td>3237740112.0</td>\n",
       "      <td>4293855558.0</td>\n",
       "    </tr>\n",
       "    <tr>\n",
       "      <th>visitorId</th>\n",
       "      <td>1197.0</td>\n",
       "      <td>N/A</td>\n",
       "      <td>N/A</td>\n",
       "      <td>N/A</td>\n",
       "      <td>2165960143.099415</td>\n",
       "      <td>1236014192.14687</td>\n",
       "      <td>5114589.0</td>\n",
       "      <td>1111826046.0</td>\n",
       "      <td>2217984702.0</td>\n",
       "      <td>3177606451.0</td>\n",
       "      <td>4283872382.0</td>\n",
       "    </tr>\n",
       "    <tr>\n",
       "      <th>date</th>\n",
       "      <td>1197</td>\n",
       "      <td>31</td>\n",
       "      <td>2019-08-05</td>\n",
       "      <td>48</td>\n",
       "      <td>N/A</td>\n",
       "      <td>N/A</td>\n",
       "      <td>N/A</td>\n",
       "      <td>N/A</td>\n",
       "      <td>N/A</td>\n",
       "      <td>N/A</td>\n",
       "      <td>N/A</td>\n",
       "    </tr>\n",
       "    <tr>\n",
       "      <th>revenue</th>\n",
       "      <td>1197.0</td>\n",
       "      <td>N/A</td>\n",
       "      <td>N/A</td>\n",
       "      <td>N/A</td>\n",
       "      <td>131.491646</td>\n",
       "      <td>603.004729</td>\n",
       "      <td>5.0</td>\n",
       "      <td>20.8</td>\n",
       "      <td>50.2</td>\n",
       "      <td>130.4</td>\n",
       "      <td>19920.4</td>\n",
       "    </tr>\n",
       "    <tr>\n",
       "      <th>group</th>\n",
       "      <td>1197</td>\n",
       "      <td>2</td>\n",
       "      <td>B</td>\n",
       "      <td>640</td>\n",
       "      <td>N/A</td>\n",
       "      <td>N/A</td>\n",
       "      <td>N/A</td>\n",
       "      <td>N/A</td>\n",
       "      <td>N/A</td>\n",
       "      <td>N/A</td>\n",
       "      <td>N/A</td>\n",
       "    </tr>\n",
       "  </tbody>\n",
       "</table>\n",
       "</div>"
      ],
      "text/plain": [
       "                count unique         top freq               mean  \\\n",
       "transactionId  1197.0    N/A         N/A  N/A  2155621385.529657   \n",
       "visitorId      1197.0    N/A         N/A  N/A  2165960143.099415   \n",
       "date             1197     31  2019-08-05   48                N/A   \n",
       "revenue        1197.0    N/A         N/A  N/A         131.491646   \n",
       "group            1197      2           B  640                N/A   \n",
       "\n",
       "                             std        min           25%           50%  \\\n",
       "transactionId  1229084904.760058  1062393.0  1166775572.0  2145193898.0   \n",
       "visitorId       1236014192.14687  5114589.0  1111826046.0  2217984702.0   \n",
       "date                         N/A        N/A           N/A           N/A   \n",
       "revenue               603.004729        5.0          20.8          50.2   \n",
       "group                        N/A        N/A           N/A           N/A   \n",
       "\n",
       "                        75%           max  \n",
       "transactionId  3237740112.0  4293855558.0  \n",
       "visitorId      3177606451.0  4283872382.0  \n",
       "date                    N/A           N/A  \n",
       "revenue               130.4       19920.4  \n",
       "group                   N/A           N/A  "
      ]
     },
     "execution_count": 7,
     "metadata": {},
     "output_type": "execute_result"
    }
   ],
   "source": [
    "orders.describe(include='all', datetime_is_numeric=True).fillna('N/A').T"
   ]
  },
  {
   "cell_type": "code",
   "execution_count": 8,
   "id": "9535a1ad",
   "metadata": {},
   "outputs": [
    {
     "data": {
      "text/html": [
       "<div>\n",
       "<style scoped>\n",
       "    .dataframe tbody tr th:only-of-type {\n",
       "        vertical-align: middle;\n",
       "    }\n",
       "\n",
       "    .dataframe tbody tr th {\n",
       "        vertical-align: top;\n",
       "    }\n",
       "\n",
       "    .dataframe thead th {\n",
       "        text-align: right;\n",
       "    }\n",
       "</style>\n",
       "<table border=\"1\" class=\"dataframe\">\n",
       "  <thead>\n",
       "    <tr style=\"text-align: right;\">\n",
       "      <th></th>\n",
       "      <th>transactionId</th>\n",
       "      <th>visitorId</th>\n",
       "      <th>date</th>\n",
       "      <th>revenue</th>\n",
       "      <th>group</th>\n",
       "    </tr>\n",
       "  </thead>\n",
       "  <tbody>\n",
       "    <tr>\n",
       "      <th>0</th>\n",
       "      <td>3667963787</td>\n",
       "      <td>3312258926</td>\n",
       "      <td>2019-08-15</td>\n",
       "      <td>30.4</td>\n",
       "      <td>B</td>\n",
       "    </tr>\n",
       "    <tr>\n",
       "      <th>1</th>\n",
       "      <td>2804400009</td>\n",
       "      <td>3642806036</td>\n",
       "      <td>2019-08-15</td>\n",
       "      <td>15.2</td>\n",
       "      <td>B</td>\n",
       "    </tr>\n",
       "    <tr>\n",
       "      <th>2</th>\n",
       "      <td>2961555356</td>\n",
       "      <td>4069496402</td>\n",
       "      <td>2019-08-15</td>\n",
       "      <td>10.2</td>\n",
       "      <td>A</td>\n",
       "    </tr>\n",
       "    <tr>\n",
       "      <th>3</th>\n",
       "      <td>3797467345</td>\n",
       "      <td>1196621759</td>\n",
       "      <td>2019-08-15</td>\n",
       "      <td>155.1</td>\n",
       "      <td>B</td>\n",
       "    </tr>\n",
       "    <tr>\n",
       "      <th>4</th>\n",
       "      <td>2282983706</td>\n",
       "      <td>2322279887</td>\n",
       "      <td>2019-08-15</td>\n",
       "      <td>40.5</td>\n",
       "      <td>B</td>\n",
       "    </tr>\n",
       "  </tbody>\n",
       "</table>\n",
       "</div>"
      ],
      "text/plain": [
       "   transactionId   visitorId        date  revenue group\n",
       "0     3667963787  3312258926  2019-08-15     30.4     B\n",
       "1     2804400009  3642806036  2019-08-15     15.2     B\n",
       "2     2961555356  4069496402  2019-08-15     10.2     A\n",
       "3     3797467345  1196621759  2019-08-15    155.1     B\n",
       "4     2282983706  2322279887  2019-08-15     40.5     B"
      ]
     },
     "execution_count": 8,
     "metadata": {},
     "output_type": "execute_result"
    }
   ],
   "source": [
    "orders.head()"
   ]
  },
  {
   "cell_type": "markdown",
   "id": "762fcc2e",
   "metadata": {},
   "source": [
    "The \"orders\" data frame has 1197 rows and 5 columns, 2 unique groups and 31 unique dates. The values in the \"date\" column are not in the correct data type and some of the letters in the column names are in capital letters. "
   ]
  },
  {
   "cell_type": "code",
   "execution_count": 9,
   "id": "a4359b41",
   "metadata": {},
   "outputs": [
    {
     "name": "stdout",
     "output_type": "stream",
     "text": [
      "<class 'pandas.core.frame.DataFrame'>\n",
      "RangeIndex: 62 entries, 0 to 61\n",
      "Data columns (total 3 columns):\n",
      " #   Column  Non-Null Count  Dtype \n",
      "---  ------  --------------  ----- \n",
      " 0   date    62 non-null     object\n",
      " 1   group   62 non-null     object\n",
      " 2   visits  62 non-null     int64 \n",
      "dtypes: int64(1), object(2)\n",
      "memory usage: 1.6+ KB\n"
     ]
    }
   ],
   "source": [
    "visits.info('deep')"
   ]
  },
  {
   "cell_type": "code",
   "execution_count": 10,
   "id": "666cbd1b",
   "metadata": {},
   "outputs": [
    {
     "data": {
      "text/html": [
       "<div>\n",
       "<style scoped>\n",
       "    .dataframe tbody tr th:only-of-type {\n",
       "        vertical-align: middle;\n",
       "    }\n",
       "\n",
       "    .dataframe tbody tr th {\n",
       "        vertical-align: top;\n",
       "    }\n",
       "\n",
       "    .dataframe thead th {\n",
       "        text-align: right;\n",
       "    }\n",
       "</style>\n",
       "<table border=\"1\" class=\"dataframe\">\n",
       "  <thead>\n",
       "    <tr style=\"text-align: right;\">\n",
       "      <th></th>\n",
       "      <th>count</th>\n",
       "      <th>unique</th>\n",
       "      <th>top</th>\n",
       "      <th>freq</th>\n",
       "      <th>mean</th>\n",
       "      <th>std</th>\n",
       "      <th>min</th>\n",
       "      <th>25%</th>\n",
       "      <th>50%</th>\n",
       "      <th>75%</th>\n",
       "      <th>max</th>\n",
       "    </tr>\n",
       "  </thead>\n",
       "  <tbody>\n",
       "    <tr>\n",
       "      <th>date</th>\n",
       "      <td>62</td>\n",
       "      <td>31</td>\n",
       "      <td>2019-08-01</td>\n",
       "      <td>2</td>\n",
       "      <td>N/A</td>\n",
       "      <td>N/A</td>\n",
       "      <td>N/A</td>\n",
       "      <td>N/A</td>\n",
       "      <td>N/A</td>\n",
       "      <td>N/A</td>\n",
       "      <td>N/A</td>\n",
       "    </tr>\n",
       "    <tr>\n",
       "      <th>group</th>\n",
       "      <td>62</td>\n",
       "      <td>2</td>\n",
       "      <td>A</td>\n",
       "      <td>31</td>\n",
       "      <td>N/A</td>\n",
       "      <td>N/A</td>\n",
       "      <td>N/A</td>\n",
       "      <td>N/A</td>\n",
       "      <td>N/A</td>\n",
       "      <td>N/A</td>\n",
       "      <td>N/A</td>\n",
       "    </tr>\n",
       "    <tr>\n",
       "      <th>visits</th>\n",
       "      <td>62.0</td>\n",
       "      <td>N/A</td>\n",
       "      <td>N/A</td>\n",
       "      <td>N/A</td>\n",
       "      <td>607.290323</td>\n",
       "      <td>114.40056</td>\n",
       "      <td>361.0</td>\n",
       "      <td>534.0</td>\n",
       "      <td>624.5</td>\n",
       "      <td>710.5</td>\n",
       "      <td>770.0</td>\n",
       "    </tr>\n",
       "  </tbody>\n",
       "</table>\n",
       "</div>"
      ],
      "text/plain": [
       "       count unique         top freq        mean        std    min    25%  \\\n",
       "date      62     31  2019-08-01    2         N/A        N/A    N/A    N/A   \n",
       "group     62      2           A   31         N/A        N/A    N/A    N/A   \n",
       "visits  62.0    N/A         N/A  N/A  607.290323  114.40056  361.0  534.0   \n",
       "\n",
       "          50%    75%    max  \n",
       "date      N/A    N/A    N/A  \n",
       "group     N/A    N/A    N/A  \n",
       "visits  624.5  710.5  770.0  "
      ]
     },
     "execution_count": 10,
     "metadata": {},
     "output_type": "execute_result"
    }
   ],
   "source": [
    "visits.describe(include='all', datetime_is_numeric=True).fillna('N/A').T"
   ]
  },
  {
   "cell_type": "code",
   "execution_count": 11,
   "id": "8a486cad",
   "metadata": {},
   "outputs": [
    {
     "data": {
      "text/html": [
       "<div>\n",
       "<style scoped>\n",
       "    .dataframe tbody tr th:only-of-type {\n",
       "        vertical-align: middle;\n",
       "    }\n",
       "\n",
       "    .dataframe tbody tr th {\n",
       "        vertical-align: top;\n",
       "    }\n",
       "\n",
       "    .dataframe thead th {\n",
       "        text-align: right;\n",
       "    }\n",
       "</style>\n",
       "<table border=\"1\" class=\"dataframe\">\n",
       "  <thead>\n",
       "    <tr style=\"text-align: right;\">\n",
       "      <th></th>\n",
       "      <th>date</th>\n",
       "      <th>group</th>\n",
       "      <th>visits</th>\n",
       "    </tr>\n",
       "  </thead>\n",
       "  <tbody>\n",
       "    <tr>\n",
       "      <th>0</th>\n",
       "      <td>2019-08-01</td>\n",
       "      <td>A</td>\n",
       "      <td>719</td>\n",
       "    </tr>\n",
       "    <tr>\n",
       "      <th>1</th>\n",
       "      <td>2019-08-02</td>\n",
       "      <td>A</td>\n",
       "      <td>619</td>\n",
       "    </tr>\n",
       "    <tr>\n",
       "      <th>2</th>\n",
       "      <td>2019-08-03</td>\n",
       "      <td>A</td>\n",
       "      <td>507</td>\n",
       "    </tr>\n",
       "    <tr>\n",
       "      <th>3</th>\n",
       "      <td>2019-08-04</td>\n",
       "      <td>A</td>\n",
       "      <td>717</td>\n",
       "    </tr>\n",
       "    <tr>\n",
       "      <th>4</th>\n",
       "      <td>2019-08-05</td>\n",
       "      <td>A</td>\n",
       "      <td>756</td>\n",
       "    </tr>\n",
       "  </tbody>\n",
       "</table>\n",
       "</div>"
      ],
      "text/plain": [
       "         date group  visits\n",
       "0  2019-08-01     A     719\n",
       "1  2019-08-02     A     619\n",
       "2  2019-08-03     A     507\n",
       "3  2019-08-04     A     717\n",
       "4  2019-08-05     A     756"
      ]
     },
     "execution_count": 11,
     "metadata": {},
     "output_type": "execute_result"
    }
   ],
   "source": [
    "visits.head()"
   ]
  },
  {
   "cell_type": "markdown",
   "id": "7c5f6aff",
   "metadata": {},
   "source": [
    "The \"visits\" data frame has 62 rows and 3 columns, 2 unique groups and 31 unique dates. The values in the \"date\" column are not in the correct data type. "
   ]
  },
  {
   "cell_type": "markdown",
   "id": "7d2d5106",
   "metadata": {},
   "source": [
    "### Summary\n",
    "\n",
    "Overall, the data seems intact, except for some incorrect data types and capital letters in columns' names - the are no visible missing values."
   ]
  },
  {
   "cell_type": "markdown",
   "id": "72ea3705",
   "metadata": {},
   "source": [
    "## Data Preprocessing"
   ]
  },
  {
   "cell_type": "markdown",
   "id": "72e561dc",
   "metadata": {},
   "source": [
    "### Orders"
   ]
  },
  {
   "cell_type": "code",
   "execution_count": 12,
   "id": "2cb09dd2",
   "metadata": {},
   "outputs": [
    {
     "data": {
      "text/html": [
       "<div>\n",
       "<style scoped>\n",
       "    .dataframe tbody tr th:only-of-type {\n",
       "        vertical-align: middle;\n",
       "    }\n",
       "\n",
       "    .dataframe tbody tr th {\n",
       "        vertical-align: top;\n",
       "    }\n",
       "\n",
       "    .dataframe thead th {\n",
       "        text-align: right;\n",
       "    }\n",
       "</style>\n",
       "<table border=\"1\" class=\"dataframe\">\n",
       "  <thead>\n",
       "    <tr style=\"text-align: right;\">\n",
       "      <th></th>\n",
       "      <th>transactionid</th>\n",
       "      <th>visitorid</th>\n",
       "      <th>date</th>\n",
       "      <th>revenue</th>\n",
       "      <th>group</th>\n",
       "    </tr>\n",
       "  </thead>\n",
       "  <tbody>\n",
       "    <tr>\n",
       "      <th>0</th>\n",
       "      <td>3667963787</td>\n",
       "      <td>3312258926</td>\n",
       "      <td>2019-08-15</td>\n",
       "      <td>30.4</td>\n",
       "      <td>B</td>\n",
       "    </tr>\n",
       "    <tr>\n",
       "      <th>1</th>\n",
       "      <td>2804400009</td>\n",
       "      <td>3642806036</td>\n",
       "      <td>2019-08-15</td>\n",
       "      <td>15.2</td>\n",
       "      <td>B</td>\n",
       "    </tr>\n",
       "    <tr>\n",
       "      <th>2</th>\n",
       "      <td>2961555356</td>\n",
       "      <td>4069496402</td>\n",
       "      <td>2019-08-15</td>\n",
       "      <td>10.2</td>\n",
       "      <td>A</td>\n",
       "    </tr>\n",
       "    <tr>\n",
       "      <th>3</th>\n",
       "      <td>3797467345</td>\n",
       "      <td>1196621759</td>\n",
       "      <td>2019-08-15</td>\n",
       "      <td>155.1</td>\n",
       "      <td>B</td>\n",
       "    </tr>\n",
       "    <tr>\n",
       "      <th>4</th>\n",
       "      <td>2282983706</td>\n",
       "      <td>2322279887</td>\n",
       "      <td>2019-08-15</td>\n",
       "      <td>40.5</td>\n",
       "      <td>B</td>\n",
       "    </tr>\n",
       "  </tbody>\n",
       "</table>\n",
       "</div>"
      ],
      "text/plain": [
       "   transactionid   visitorid        date  revenue group\n",
       "0     3667963787  3312258926  2019-08-15     30.4     B\n",
       "1     2804400009  3642806036  2019-08-15     15.2     B\n",
       "2     2961555356  4069496402  2019-08-15     10.2     A\n",
       "3     3797467345  1196621759  2019-08-15    155.1     B\n",
       "4     2282983706  2322279887  2019-08-15     40.5     B"
      ]
     },
     "execution_count": 12,
     "metadata": {},
     "output_type": "execute_result"
    }
   ],
   "source": [
    "orders.columns = orders.columns.str.lower() \n",
    "orders.head()\n"
   ]
  },
  {
   "cell_type": "markdown",
   "id": "f3bfcc67",
   "metadata": {},
   "source": [
    "Above, I changed all the letters in the \"orders\" data frame to lowercase, so they will be easier to work with and printed a sample of the data frame to check that the columns' names were indeed turned to lower case. "
   ]
  },
  {
   "cell_type": "code",
   "execution_count": 13,
   "id": "08b1d3f6",
   "metadata": {},
   "outputs": [
    {
     "data": {
      "text/plain": [
       "0"
      ]
     },
     "execution_count": 13,
     "metadata": {},
     "output_type": "execute_result"
    }
   ],
   "source": [
    "orders.duplicated().sum()"
   ]
  },
  {
   "cell_type": "markdown",
   "id": "f27114d9",
   "metadata": {},
   "source": [
    "I checked if there were any duplicate row in the data frame, there weren't any. "
   ]
  },
  {
   "cell_type": "code",
   "execution_count": 14,
   "id": "ac92ddd1",
   "metadata": {},
   "outputs": [
    {
     "name": "stdout",
     "output_type": "stream",
     "text": [
      "<class 'pandas.core.frame.DataFrame'>\n",
      "RangeIndex: 1197 entries, 0 to 1196\n",
      "Data columns (total 5 columns):\n",
      " #   Column         Non-Null Count  Dtype         \n",
      "---  ------         --------------  -----         \n",
      " 0   transactionid  1197 non-null   int64         \n",
      " 1   visitorid      1197 non-null   int64         \n",
      " 2   date           1197 non-null   datetime64[ns]\n",
      " 3   revenue        1197 non-null   float64       \n",
      " 4   group          1197 non-null   object        \n",
      "dtypes: datetime64[ns](1), float64(1), int64(2), object(1)\n",
      "memory usage: 46.9+ KB\n"
     ]
    }
   ],
   "source": [
    "orders['date'] = orders['date'].map(lambda x: dt.datetime.strptime(x, '%Y-%m-%d'))\n",
    "orders.info('deep')\n"
   ]
  },
  {
   "cell_type": "markdown",
   "id": "0456528c",
   "metadata": {},
   "source": [
    "I turned the values in the \"date\" column to datetime by mapping a lambda function. "
   ]
  },
  {
   "cell_type": "code",
   "execution_count": 15,
   "id": "1366e05f",
   "metadata": {},
   "outputs": [
    {
     "data": {
      "text/html": [
       "<div>\n",
       "<style scoped>\n",
       "    .dataframe tbody tr th:only-of-type {\n",
       "        vertical-align: middle;\n",
       "    }\n",
       "\n",
       "    .dataframe tbody tr th {\n",
       "        vertical-align: top;\n",
       "    }\n",
       "\n",
       "    .dataframe thead th {\n",
       "        text-align: right;\n",
       "    }\n",
       "</style>\n",
       "<table border=\"1\" class=\"dataframe\">\n",
       "  <thead>\n",
       "    <tr style=\"text-align: right;\">\n",
       "      <th></th>\n",
       "      <th>visitorid</th>\n",
       "      <th>group</th>\n",
       "    </tr>\n",
       "  </thead>\n",
       "  <tbody>\n",
       "    <tr>\n",
       "      <th>0</th>\n",
       "      <td>2654030115</td>\n",
       "      <td>2</td>\n",
       "    </tr>\n",
       "    <tr>\n",
       "      <th>1</th>\n",
       "      <td>3891541246</td>\n",
       "      <td>2</td>\n",
       "    </tr>\n",
       "    <tr>\n",
       "      <th>2</th>\n",
       "      <td>3941795274</td>\n",
       "      <td>2</td>\n",
       "    </tr>\n",
       "    <tr>\n",
       "      <th>3</th>\n",
       "      <td>1404934699</td>\n",
       "      <td>2</td>\n",
       "    </tr>\n",
       "    <tr>\n",
       "      <th>4</th>\n",
       "      <td>351125977</td>\n",
       "      <td>2</td>\n",
       "    </tr>\n",
       "  </tbody>\n",
       "</table>\n",
       "</div>"
      ],
      "text/plain": [
       "    visitorid  group\n",
       "0  2654030115      2\n",
       "1  3891541246      2\n",
       "2  3941795274      2\n",
       "3  1404934699      2\n",
       "4   351125977      2"
      ]
     },
     "execution_count": 15,
     "metadata": {},
     "output_type": "execute_result"
    }
   ],
   "source": [
    "two_grouped = orders.groupby(['visitorid']).agg({'group': 'nunique'}).sort_values(by='group', ascending=False).query('group > 1').reset_index()\n",
    "two_grouped.head()\n"
   ]
  },
  {
   "cell_type": "markdown",
   "id": "5ab60ea7",
   "metadata": {},
   "source": [
    "I created a table by grouping the \"visitorid\" column and counting each user's unique number of groups. As we can see, some users have two unique groups - both A and B."
   ]
  },
  {
   "cell_type": "code",
   "execution_count": 16,
   "id": "0e0a8adc",
   "metadata": {},
   "outputs": [
    {
     "data": {
      "text/plain": [
       "58"
      ]
     },
     "execution_count": 16,
     "metadata": {},
     "output_type": "execute_result"
    }
   ],
   "source": [
    "two_grouped['visitorid'].nunique()"
   ]
  },
  {
   "cell_type": "markdown",
   "id": "c8bfad19",
   "metadata": {},
   "source": [
    "There are 58 users with two groups. "
   ]
  },
  {
   "cell_type": "code",
   "execution_count": 17,
   "id": "b261c6cd",
   "metadata": {},
   "outputs": [],
   "source": [
    "filtered_orders = orders[~orders.visitorid.isin(two_grouped['visitorid'])]\n"
   ]
  },
  {
   "cell_type": "code",
   "execution_count": 18,
   "id": "5d11a508",
   "metadata": {},
   "outputs": [
    {
     "data": {
      "text/html": [
       "<div>\n",
       "<style scoped>\n",
       "    .dataframe tbody tr th:only-of-type {\n",
       "        vertical-align: middle;\n",
       "    }\n",
       "\n",
       "    .dataframe tbody tr th {\n",
       "        vertical-align: top;\n",
       "    }\n",
       "\n",
       "    .dataframe thead th {\n",
       "        text-align: right;\n",
       "    }\n",
       "</style>\n",
       "<table border=\"1\" class=\"dataframe\">\n",
       "  <thead>\n",
       "    <tr style=\"text-align: right;\">\n",
       "      <th></th>\n",
       "      <th>visitorid</th>\n",
       "      <th>group</th>\n",
       "    </tr>\n",
       "  </thead>\n",
       "  <tbody>\n",
       "  </tbody>\n",
       "</table>\n",
       "</div>"
      ],
      "text/plain": [
       "Empty DataFrame\n",
       "Columns: [visitorid, group]\n",
       "Index: []"
      ]
     },
     "execution_count": 18,
     "metadata": {},
     "output_type": "execute_result"
    }
   ],
   "source": [
    "filtered_orders.groupby(['visitorid']).agg({'group': 'nunique'}).sort_values(by='group', ascending=False).query('group > 1').reset_index()\n"
   ]
  },
  {
   "cell_type": "markdown",
   "id": "ac20fde3",
   "metadata": {},
   "source": [
    "I created a filtered data frame of \"orders\" without the double grouped users and checked whether there are any of them in the filtered data frame - there aren't any. "
   ]
  },
  {
   "cell_type": "code",
   "execution_count": 19,
   "id": "dae287ea",
   "metadata": {
    "scrolled": true
   },
   "outputs": [
    {
     "name": "stdout",
     "output_type": "stream",
     "text": [
      "<class 'pandas.core.frame.DataFrame'>\n",
      "Int64Index: 1016 entries, 0 to 1196\n",
      "Data columns (total 5 columns):\n",
      " #   Column         Non-Null Count  Dtype         \n",
      "---  ------         --------------  -----         \n",
      " 0   transactionid  1016 non-null   int64         \n",
      " 1   visitorid      1016 non-null   int64         \n",
      " 2   date           1016 non-null   datetime64[ns]\n",
      " 3   revenue        1016 non-null   float64       \n",
      " 4   group          1016 non-null   object        \n",
      "dtypes: datetime64[ns](1), float64(1), int64(2), object(1)\n",
      "memory usage: 47.6+ KB\n",
      "\n",
      "Once filtered, 58 visitorids were dropped and 181 rows were removed from the 'orders' data frame.\n"
     ]
    }
   ],
   "source": [
    "filtered_orders.info('deep')\n",
    "print()\n",
    "print(\"Once filtered, {} visitorids were dropped and {} rows were removed from the 'orders' data frame.\".format(two_grouped['visitorid'].nunique(), len(orders)-len(filtered_orders)))"
   ]
  },
  {
   "cell_type": "markdown",
   "id": "b2922489",
   "metadata": {},
   "source": [
    "### Visits"
   ]
  },
  {
   "cell_type": "code",
   "execution_count": 20,
   "id": "ef12bab9",
   "metadata": {
    "scrolled": true
   },
   "outputs": [
    {
     "data": {
      "text/plain": [
       "0"
      ]
     },
     "execution_count": 20,
     "metadata": {},
     "output_type": "execute_result"
    }
   ],
   "source": [
    "visits.duplicated().sum()"
   ]
  },
  {
   "cell_type": "markdown",
   "id": "52ab2e45",
   "metadata": {},
   "source": [
    "I checked if there were any duplicate row in the data frame, there weren't any. "
   ]
  },
  {
   "cell_type": "code",
   "execution_count": 21,
   "id": "5f2a97a7",
   "metadata": {},
   "outputs": [
    {
     "data": {
      "text/html": [
       "<div>\n",
       "<style scoped>\n",
       "    .dataframe tbody tr th:only-of-type {\n",
       "        vertical-align: middle;\n",
       "    }\n",
       "\n",
       "    .dataframe tbody tr th {\n",
       "        vertical-align: top;\n",
       "    }\n",
       "\n",
       "    .dataframe thead th {\n",
       "        text-align: right;\n",
       "    }\n",
       "</style>\n",
       "<table border=\"1\" class=\"dataframe\">\n",
       "  <thead>\n",
       "    <tr style=\"text-align: right;\">\n",
       "      <th></th>\n",
       "      <th>date</th>\n",
       "      <th>group</th>\n",
       "    </tr>\n",
       "  </thead>\n",
       "  <tbody>\n",
       "  </tbody>\n",
       "</table>\n",
       "</div>"
      ],
      "text/plain": [
       "Empty DataFrame\n",
       "Columns: [date, group]\n",
       "Index: []"
      ]
     },
     "execution_count": 21,
     "metadata": {},
     "output_type": "execute_result"
    }
   ],
   "source": [
    "visits.groupby(['date']).agg({'group': 'count'}).sort_values(by='group', ascending=False).query('group > 2').reset_index()\n"
   ]
  },
  {
   "cell_type": "code",
   "execution_count": 22,
   "id": "df8cfe81",
   "metadata": {},
   "outputs": [
    {
     "data": {
      "text/html": [
       "<div>\n",
       "<style scoped>\n",
       "    .dataframe tbody tr th:only-of-type {\n",
       "        vertical-align: middle;\n",
       "    }\n",
       "\n",
       "    .dataframe tbody tr th {\n",
       "        vertical-align: top;\n",
       "    }\n",
       "\n",
       "    .dataframe thead th {\n",
       "        text-align: right;\n",
       "    }\n",
       "</style>\n",
       "<table border=\"1\" class=\"dataframe\">\n",
       "  <thead>\n",
       "    <tr style=\"text-align: right;\">\n",
       "      <th></th>\n",
       "      <th>date</th>\n",
       "      <th>group</th>\n",
       "    </tr>\n",
       "  </thead>\n",
       "  <tbody>\n",
       "  </tbody>\n",
       "</table>\n",
       "</div>"
      ],
      "text/plain": [
       "Empty DataFrame\n",
       "Columns: [date, group]\n",
       "Index: []"
      ]
     },
     "execution_count": 22,
     "metadata": {},
     "output_type": "execute_result"
    }
   ],
   "source": [
    "visits.groupby(['date']).agg({'group': 'nunique'}).sort_values(by='group', ascending=False).query('group > 2').reset_index()\n"
   ]
  },
  {
   "cell_type": "markdown",
   "id": "a29ae316",
   "metadata": {},
   "source": [
    "Above I checked whether there are dates with more than 3 groups or more than 2 unique groups - there are none.\n"
   ]
  },
  {
   "cell_type": "code",
   "execution_count": 23,
   "id": "6f90f05a",
   "metadata": {},
   "outputs": [
    {
     "name": "stdout",
     "output_type": "stream",
     "text": [
      "<class 'pandas.core.frame.DataFrame'>\n",
      "RangeIndex: 62 entries, 0 to 61\n",
      "Data columns (total 3 columns):\n",
      " #   Column  Non-Null Count  Dtype         \n",
      "---  ------  --------------  -----         \n",
      " 0   date    62 non-null     datetime64[ns]\n",
      " 1   group   62 non-null     object        \n",
      " 2   visits  62 non-null     int64         \n",
      "dtypes: datetime64[ns](1), int64(1), object(1)\n",
      "memory usage: 1.6+ KB\n"
     ]
    }
   ],
   "source": [
    "visits['date'] = visits['date'].map(lambda x: dt.datetime.strptime(x, '%Y-%m-%d'))\n",
    "visits.info('deep')\n"
   ]
  },
  {
   "cell_type": "markdown",
   "id": "9332cf37",
   "metadata": {},
   "source": [
    "I turned the values in the \"date\" column to datetime by mapping a lambda function. "
   ]
  },
  {
   "cell_type": "markdown",
   "id": "0e825a34",
   "metadata": {},
   "source": [
    "### Summary\n",
    "\n",
    "In the data preprocessing I took the following steps: \n",
    "* I turned the columns' names of the \"orders\" data frame to lowercase letters. \n",
    "* I checked for duplicated rows in both the \"orders\" and \"visits\" data frames, there weren't any.\n",
    "* I changed the data type of the \"date\" column in the \"orders\" and \"visits\" data frames to datetime.\n",
    "* I created a new data frame called \"filtered_orders\" with which I will now work, which has no users who are both members of group A and group B. Thus, this data frame now has 1016 rows and 5 columns. \n"
   ]
  },
  {
   "cell_type": "markdown",
   "id": "a82c95c8",
   "metadata": {},
   "source": [
    "## Part 1 - Prioritizing Hypotheses"
   ]
  },
  {
   "cell_type": "markdown",
   "id": "d364258c",
   "metadata": {},
   "source": [
    "The \"hypotheses\" data frame contains nine hypotheses on boosting an the store's revenue with Reach, Impact, Confidence, and Effort specified for each - numbered from 1 to 10.\n"
   ]
  },
  {
   "cell_type": "markdown",
   "id": "2a8524af",
   "metadata": {},
   "source": [
    "Impact, confidence, effort/ease (ICE)\n",
    "\n",
    "RICE has four components:\n",
    "Reach — how many users will be affected by the update you want to introduce\n",
    "Impact — how strongly this update will affect the users, their experience, and their satisfaction with the product\n",
    "Confidence — how sure you are that your product will affect them in this way\n",
    "Effort — how much will it cost to test the hypothesis\n"
   ]
  },
  {
   "cell_type": "code",
   "execution_count": 24,
   "id": "75acca64",
   "metadata": {
    "scrolled": false
   },
   "outputs": [
    {
     "data": {
      "text/html": [
       "<div>\n",
       "<style scoped>\n",
       "    .dataframe tbody tr th:only-of-type {\n",
       "        vertical-align: middle;\n",
       "    }\n",
       "\n",
       "    .dataframe tbody tr th {\n",
       "        vertical-align: top;\n",
       "    }\n",
       "\n",
       "    .dataframe thead th {\n",
       "        text-align: right;\n",
       "    }\n",
       "</style>\n",
       "<table border=\"1\" class=\"dataframe\">\n",
       "  <thead>\n",
       "    <tr style=\"text-align: right;\">\n",
       "      <th></th>\n",
       "      <th>Hypothesis</th>\n",
       "      <th>Reach</th>\n",
       "      <th>Impact</th>\n",
       "      <th>Confidence</th>\n",
       "      <th>Effort</th>\n",
       "    </tr>\n",
       "  </thead>\n",
       "  <tbody>\n",
       "    <tr>\n",
       "      <th>0</th>\n",
       "      <td>Add two new channels for attracting traffic. This will bring 30% more users</td>\n",
       "      <td>3</td>\n",
       "      <td>10</td>\n",
       "      <td>8</td>\n",
       "      <td>6</td>\n",
       "    </tr>\n",
       "    <tr>\n",
       "      <th>1</th>\n",
       "      <td>Launch your own delivery service. This will shorten delivery time</td>\n",
       "      <td>2</td>\n",
       "      <td>5</td>\n",
       "      <td>4</td>\n",
       "      <td>10</td>\n",
       "    </tr>\n",
       "    <tr>\n",
       "      <th>2</th>\n",
       "      <td>Add product recommendation blocks to the store's site. This will increase conversion and average purchase size</td>\n",
       "      <td>8</td>\n",
       "      <td>3</td>\n",
       "      <td>7</td>\n",
       "      <td>3</td>\n",
       "    </tr>\n",
       "    <tr>\n",
       "      <th>3</th>\n",
       "      <td>Change the category structure. This will increase conversion since users will find the products they want more quickly</td>\n",
       "      <td>8</td>\n",
       "      <td>3</td>\n",
       "      <td>3</td>\n",
       "      <td>8</td>\n",
       "    </tr>\n",
       "    <tr>\n",
       "      <th>4</th>\n",
       "      <td>Change the background color on the main page. This will increase user engagement</td>\n",
       "      <td>3</td>\n",
       "      <td>1</td>\n",
       "      <td>1</td>\n",
       "      <td>1</td>\n",
       "    </tr>\n",
       "    <tr>\n",
       "      <th>5</th>\n",
       "      <td>Add a customer review page. This will increase the number of orders</td>\n",
       "      <td>3</td>\n",
       "      <td>2</td>\n",
       "      <td>2</td>\n",
       "      <td>3</td>\n",
       "    </tr>\n",
       "    <tr>\n",
       "      <th>6</th>\n",
       "      <td>Show banners with current offers and sales on the main page. This will boost conversion</td>\n",
       "      <td>5</td>\n",
       "      <td>3</td>\n",
       "      <td>8</td>\n",
       "      <td>3</td>\n",
       "    </tr>\n",
       "    <tr>\n",
       "      <th>7</th>\n",
       "      <td>Add a subscription form to all the main pages. This will help you compile a mailing list</td>\n",
       "      <td>10</td>\n",
       "      <td>7</td>\n",
       "      <td>8</td>\n",
       "      <td>5</td>\n",
       "    </tr>\n",
       "    <tr>\n",
       "      <th>8</th>\n",
       "      <td>Launch a promotion that gives users discounts on their birthdays</td>\n",
       "      <td>1</td>\n",
       "      <td>9</td>\n",
       "      <td>9</td>\n",
       "      <td>5</td>\n",
       "    </tr>\n",
       "  </tbody>\n",
       "</table>\n",
       "</div>"
      ],
      "text/plain": [
       "                                                                                                               Hypothesis  \\\n",
       "0                                             Add two new channels for attracting traffic. This will bring 30% more users   \n",
       "1                                                       Launch your own delivery service. This will shorten delivery time   \n",
       "2          Add product recommendation blocks to the store's site. This will increase conversion and average purchase size   \n",
       "3  Change the category structure. This will increase conversion since users will find the products they want more quickly   \n",
       "4                                        Change the background color on the main page. This will increase user engagement   \n",
       "5                                                     Add a customer review page. This will increase the number of orders   \n",
       "6                                 Show banners with current offers and sales on the main page. This will boost conversion   \n",
       "7                                Add a subscription form to all the main pages. This will help you compile a mailing list   \n",
       "8                                                        Launch a promotion that gives users discounts on their birthdays   \n",
       "\n",
       "   Reach  Impact  Confidence  Effort  \n",
       "0      3      10           8       6  \n",
       "1      2       5           4      10  \n",
       "2      8       3           7       3  \n",
       "3      8       3           3       8  \n",
       "4      3       1           1       1  \n",
       "5      3       2           2       3  \n",
       "6      5       3           8       3  \n",
       "7     10       7           8       5  \n",
       "8      1       9           9       5  "
      ]
     },
     "execution_count": 24,
     "metadata": {},
     "output_type": "execute_result"
    }
   ],
   "source": [
    "pd.set_option('display.max_colwidth', None)\n",
    "hypotheses.head(10)"
   ]
  },
  {
   "cell_type": "markdown",
   "id": "82457173",
   "metadata": {},
   "source": [
    "I printed the table before I calculate ICE/RICE priorities. "
   ]
  },
  {
   "cell_type": "markdown",
   "id": "5559541c",
   "metadata": {},
   "source": [
    "### Calculating ICE Priority"
   ]
  },
  {
   "cell_type": "markdown",
   "id": "a3cdf63a",
   "metadata": {},
   "source": [
    "ICE has three components: \n",
    "* Impact — how strongly this update will affect the users, their experience, and their satisfaction with the product;\n",
    "* Confidence — how sure you are that your product will affect them in this way;\n",
    "* Effort/Ease — how much will it cost to test the hypothesis.\n",
    "\n",
    "ICE is calculated by multiplying Impact by Confidence and dividing by Effort. \n",
    "\n",
    "Hereinafter I will check each hypothesis's ICE priority."
   ]
  },
  {
   "cell_type": "code",
   "execution_count": 25,
   "id": "a98e7b38",
   "metadata": {},
   "outputs": [],
   "source": [
    "hypotheses['ICE'] = ((hypotheses['Impact']*hypotheses['Confidence'])/hypotheses['Effort']).round(3)"
   ]
  },
  {
   "cell_type": "markdown",
   "id": "184f8bf7",
   "metadata": {},
   "source": [
    "I calculated the ICE priority in a newly created \"ICE\" column."
   ]
  },
  {
   "cell_type": "code",
   "execution_count": 26,
   "id": "07bf108e",
   "metadata": {},
   "outputs": [
    {
     "data": {
      "image/png": "[encoded data removed]",
      "text/plain": [
       "<Figure size 432x288 with 1 Axes>"
      ]
     },
     "metadata": {
      "needs_background": "light"
     },
     "output_type": "display_data"
    }
   ],
   "source": [
    "hypotheses[['Hypothesis','ICE']].sort_values(by='ICE').plot(x='Hypothesis',y='ICE', kind='barh',grid=True ,title='Hypotheses ICE Priority', color='midnightblue')\n",
    "plt.show()"
   ]
  },
  {
   "cell_type": "markdown",
   "id": "a76cd699",
   "metadata": {},
   "source": [
    "As we can see, the hypothesis with the highest ICE priority is hypothesis 8, next are 0 and 7, while the hypotheses with the lowest ICE priority are 5, 3 and 4. "
   ]
  },
  {
   "cell_type": "markdown",
   "id": "d249a040",
   "metadata": {},
   "source": [
    "### Calculating RICE Priority\n"
   ]
  },
  {
   "cell_type": "markdown",
   "id": "e9da8c9d",
   "metadata": {},
   "source": [
    "RICE has four components:\n",
    "* Reach — how many users will be affected by the update you want to introduce;\n",
    "* Impact — how strongly this update will affect the users, their experience, and their satisfaction with the product;\n",
    "* Confidence — how sure you are that your product will affect them in this way;\n",
    "* Effort — how much will it cost to test the hypothesis.\n",
    "\n",
    "RICE is calculated by multiplying Reach and Impact by Confidence and dividing by Effort. \n",
    "\n",
    "Hereinafter I will check each hypothesis's RICE priority."
   ]
  },
  {
   "cell_type": "code",
   "execution_count": 27,
   "id": "6155b2c9",
   "metadata": {},
   "outputs": [],
   "source": [
    "hypotheses['RICE'] = (hypotheses['Reach']*hypotheses['Impact']*hypotheses['Confidence'])/hypotheses['Effort']"
   ]
  },
  {
   "cell_type": "markdown",
   "id": "e023cffb",
   "metadata": {},
   "source": [
    "I calculated the RICE priority in a newly created \"RICE\" column."
   ]
  },
  {
   "cell_type": "code",
   "execution_count": 28,
   "id": "7089a3cb",
   "metadata": {},
   "outputs": [
    {
     "data": {
      "image/png": "[encoded data removed]",
      "text/plain": [
       "<Figure size 432x288 with 1 Axes>"
      ]
     },
     "metadata": {
      "needs_background": "light"
     },
     "output_type": "display_data"
    }
   ],
   "source": [
    "hypotheses[['Hypothesis','RICE']].sort_values(by='RICE').plot(x='Hypothesis',y='RICE', kind='barh',grid=True ,title='Hypotheses RICE Priority', color='midnightblue')\n",
    "plt.show()"
   ]
  },
  {
   "cell_type": "markdown",
   "id": "f69a1e6b",
   "metadata": {},
   "source": [
    "As we can see, the hypothesis with the highest RICE priority is hypothesis 7, next are 2 and 6, while the hypotheses with the lowest RICE priority are 5, 1 and 4. "
   ]
  },
  {
   "cell_type": "markdown",
   "id": "d2e390ef",
   "metadata": {},
   "source": [
    "### Comparing ICE and RICE Priorities"
   ]
  },
  {
   "cell_type": "code",
   "execution_count": 29,
   "id": "3b964848",
   "metadata": {
    "code_folding": []
   },
   "outputs": [
    {
     "data": {
      "image/png": "[encoded data removed]",
      "text/plain": [
       "<Figure size 936x720 with 1 Axes>"
      ]
     },
     "metadata": {
      "needs_background": "light"
     },
     "output_type": "display_data"
    }
   ],
   "source": [
    "hyp_piv = hypotheses.pivot_table(index = [hypotheses.index], values = ['ICE', 'RICE'], aggfunc = 'sum').sort_values(by='RICE', ascending=False)\n",
    "plt.figure(figsize=(13, 10))\n",
    "x = hyp_piv.ICE\n",
    "y = hyp_piv.RICE\n",
    "colors = np.array([10, 20, 40, 60, 70, 90, 120, 150, 170])\n",
    "plt.scatter(x, y, c=colors,cmap='icefire_r', marker='*', s=400)\n",
    "labels = [\"7\", \"2\", \"0\", \"6\", \"8\", \"3\", \"1\", \"5\", \"4\"]\n",
    "\n",
    " \n",
    "for x_pos, y_pos, label in zip(x, y, labels):\n",
    "    plt.annotate(label, xy=(x_pos, y_pos), xytext=(5, 8), textcoords='offset points', ha='left', va='bottom')       \n",
    "\n",
    "\n",
    "plt.title('Hypotheses RICE/ICE Priority', size=15)\n",
    "plt.ylabel('RICE', size=12)\n",
    "plt.xlabel('ICE', size=12)\n",
    "plt.legend([\"\"\"0  \n",
    "Add two new channels for attracting traffic. \n",
    "This will bring 30% more users.\n",
    "\n",
    "1 \n",
    "Launch your own delivery service. \n",
    "This will shorten delivery time.\n",
    "\n",
    "2 \n",
    "Add product recommendation blocks to the store's site. \n",
    "This will increase conversion and average purchase size.\n",
    "\n",
    "3 \n",
    "Change the category structure. \n",
    "This will increase conversion since users will find the products \n",
    "they want more quickly.\n",
    "\n",
    "4 \n",
    "Change the background color on the main page. \n",
    "This will increase user engagement.\n",
    "\n",
    "5 \n",
    "Add a customer review page. \n",
    "This will increase the number of orders.\n",
    "\n",
    "6  \n",
    "Show banners with current offers and sales on the main page. \n",
    "This will boost conversion.\n",
    "\n",
    "7 \n",
    "Add a subscription form to all the main pages. \n",
    "This will help you compile a mailing list.\n",
    "\n",
    "8 \n",
    "Launch a promotion that gives users discounts on their birthdays.\"\"\"], loc='center left',bbox_to_anchor=(1, 0.5), title=\"Hypotehses\", fontsize=13, title_fontsize=14)\n",
    "plt.show()\n"
   ]
  },
  {
   "cell_type": "markdown",
   "id": "138d0a7b",
   "metadata": {},
   "source": [
    "As noted before hypothesis with the highest ICE priority is hypothesis 8, next are 0 and 7, while the hypothesis with the highest RICE priority is hypothesis 7, next are 2 and 6.\n",
    "\n",
    "The hypotheses with the lowest ICE priority are 5, 3 and 4, and those with the lowest RICE priority are 5, 1 and 4. \n",
    "\n",
    "The only difference between the two is: **R for Reach - how many users will be affected by the update**.\n",
    "\n",
    "If the R is high, then the priority rises - for example, hypothesis 7 is to add a subscription form that will help the store compile a mailing list - this has the highest reach value, meaning you will reach all users that subscribe. This hypothesis is has also medium-high impact and confidence values and medium effort value - making it third in ICE priorities. \n",
    "\n",
    "On the other hand, hypotheses 8 and 0, the first and second highest ICE priorities have low reach values, 1 and 3, respectively. Hypothesis 8 will only reach certain users at certain times (on their birthdays) and hypothesis 0, by its own account, will reach only 30% of users. \n",
    "\n",
    "Hypotheses 2 and 6, second and third highest RICE priorities have 8 and 5 reach values, respectively. Both aim to boost the conversion of users to buyers. Even though hypothesis 6 has medium reach value it is high in confidence and low on effort - making it a win-win. \n",
    "\n",
    "Another glaring difference in ICE/RICE priority are hypotheses 3 and 1, both the second to last in each. Hypothesis 3 has low impact and low confidence (both 3) and high effort - making it low in ICE priority. However, since by nature it will reach all users using the store's website, it has high reach value - removing it from the bottom 3 in RICE priority.\n",
    "\n",
    "Hypothesis 1 has medium impact and confidence values and very high effort value (10) - in addition, its reach value is low (2). It might seem that adding a delivery service will affect a lot of users. But perhaps this service will be pricier than other delivery options given the store's online customers and they will prefer longer delivery at lower cost - hence the low reach. \n",
    "\n",
    "\n"
   ]
  },
  {
   "cell_type": "markdown",
   "id": "689feb6b",
   "metadata": {},
   "source": [
    "## Part 2 - A/B Test Analysis"
   ]
  },
  {
   "cell_type": "markdown",
   "id": "f423057a",
   "metadata": {},
   "source": [
    "\n",
    "Hereinafter I will analyze the A/B test. \n"
   ]
  },
  {
   "cell_type": "markdown",
   "id": "f5648bb8",
   "metadata": {},
   "source": [
    "### Cumulative Revenue per Group"
   ]
  },
  {
   "cell_type": "markdown",
   "id": "a82ae135",
   "metadata": {},
   "source": [
    "#### Calculating and Graphing Cumulative Revenue per Group"
   ]
  },
  {
   "cell_type": "code",
   "execution_count": 30,
   "id": "f1b29d41",
   "metadata": {},
   "outputs": [
    {
     "name": "stdout",
     "output_type": "stream",
     "text": [
      "<class 'pandas.core.frame.DataFrame'>\n",
      "Int64Index: 1016 entries, 0 to 1196\n",
      "Data columns (total 2 columns):\n",
      " #   Column  Non-Null Count  Dtype         \n",
      "---  ------  --------------  -----         \n",
      " 0   date    1016 non-null   datetime64[ns]\n",
      " 1   group   1016 non-null   object        \n",
      "dtypes: datetime64[ns](1), object(1)\n",
      "memory usage: 23.8+ KB\n"
     ]
    }
   ],
   "source": [
    "datesg = filtered_orders[['date','group']] \n",
    "datesg.info('deep')"
   ]
  },
  {
   "cell_type": "code",
   "execution_count": 31,
   "id": "7d03092d",
   "metadata": {},
   "outputs": [
    {
     "name": "stdout",
     "output_type": "stream",
     "text": [
      "<class 'pandas.core.frame.DataFrame'>\n",
      "Int64Index: 62 entries, 0 to 1150\n",
      "Data columns (total 2 columns):\n",
      " #   Column  Non-Null Count  Dtype         \n",
      "---  ------  --------------  -----         \n",
      " 0   date    62 non-null     datetime64[ns]\n",
      " 1   group   62 non-null     object        \n",
      "dtypes: datetime64[ns](1), object(1)\n",
      "memory usage: 1.5+ KB\n"
     ]
    }
   ],
   "source": [
    "datesg = filtered_orders[['date','group']].drop_duplicates()\n",
    "datesg.info('deep')"
   ]
  },
  {
   "cell_type": "markdown",
   "id": "b3d947a7",
   "metadata": {},
   "source": [
    "I built an array with unique paired date/group values using drop_duplicates(), and called it \"datesg\"."
   ]
  },
  {
   "cell_type": "code",
   "execution_count": 32,
   "id": "d3dbcae1",
   "metadata": {},
   "outputs": [
    {
     "data": {
      "text/html": [
       "<div>\n",
       "<style scoped>\n",
       "    .dataframe tbody tr th:only-of-type {\n",
       "        vertical-align: middle;\n",
       "    }\n",
       "\n",
       "    .dataframe tbody tr th {\n",
       "        vertical-align: top;\n",
       "    }\n",
       "\n",
       "    .dataframe thead th {\n",
       "        text-align: right;\n",
       "    }\n",
       "</style>\n",
       "<table border=\"1\" class=\"dataframe\">\n",
       "  <thead>\n",
       "    <tr style=\"text-align: right;\">\n",
       "      <th></th>\n",
       "      <th>date</th>\n",
       "      <th>group</th>\n",
       "      <th>transactionid</th>\n",
       "      <th>visitorid</th>\n",
       "      <th>revenue</th>\n",
       "    </tr>\n",
       "  </thead>\n",
       "  <tbody>\n",
       "    <tr>\n",
       "      <th>55</th>\n",
       "      <td>2019-08-01</td>\n",
       "      <td>A</td>\n",
       "      <td>23</td>\n",
       "      <td>19</td>\n",
       "      <td>2266.6</td>\n",
       "    </tr>\n",
       "    <tr>\n",
       "      <th>66</th>\n",
       "      <td>2019-08-01</td>\n",
       "      <td>B</td>\n",
       "      <td>17</td>\n",
       "      <td>17</td>\n",
       "      <td>967.2</td>\n",
       "    </tr>\n",
       "    <tr>\n",
       "      <th>175</th>\n",
       "      <td>2019-08-02</td>\n",
       "      <td>A</td>\n",
       "      <td>42</td>\n",
       "      <td>36</td>\n",
       "      <td>3734.9</td>\n",
       "    </tr>\n",
       "    <tr>\n",
       "      <th>173</th>\n",
       "      <td>2019-08-02</td>\n",
       "      <td>B</td>\n",
       "      <td>40</td>\n",
       "      <td>39</td>\n",
       "      <td>3535.3</td>\n",
       "    </tr>\n",
       "    <tr>\n",
       "      <th>291</th>\n",
       "      <td>2019-08-03</td>\n",
       "      <td>A</td>\n",
       "      <td>66</td>\n",
       "      <td>60</td>\n",
       "      <td>5550.1</td>\n",
       "    </tr>\n",
       "  </tbody>\n",
       "</table>\n",
       "</div>"
      ],
      "text/plain": [
       "          date group  transactionid  visitorid  revenue\n",
       "55  2019-08-01     A             23         19   2266.6\n",
       "66  2019-08-01     B             17         17    967.2\n",
       "175 2019-08-02     A             42         36   3734.9\n",
       "173 2019-08-02     B             40         39   3535.3\n",
       "291 2019-08-03     A             66         60   5550.1"
      ]
     },
     "execution_count": 32,
     "metadata": {},
     "output_type": "execute_result"
    }
   ],
   "source": [
    "o_aggregated = datesg.apply(lambda x: filtered_orders\n",
    "                            [np.logical_and(filtered_orders['date'] <= x['date'], filtered_orders\n",
    "                            ['group'] == x['group'])].agg({'date' : 'max', 'group' : 'max', 'transactionid' \n",
    "                            : pd.Series.nunique, 'visitorid' : pd.Series.nunique, 'revenue' : 'sum'}), \n",
    "                            axis=1).sort_values(by=['date','group'])\n",
    "o_aggregated.head()\n"
   ]
  },
  {
   "cell_type": "markdown",
   "id": "cec5ae42",
   "metadata": {},
   "source": [
    "I found the number of unique order and user IDs (transactionid and visitorid) and calculated the sum of average purchase sizes per date per group from the \"filtered_orders\" data frame that are in the dates and groups  in \"datesg\" - I called the table \"o_aggregated\"."
   ]
  },
  {
   "cell_type": "code",
   "execution_count": 33,
   "id": "ed95c415",
   "metadata": {},
   "outputs": [
    {
     "data": {
      "text/html": [
       "<div>\n",
       "<style scoped>\n",
       "    .dataframe tbody tr th:only-of-type {\n",
       "        vertical-align: middle;\n",
       "    }\n",
       "\n",
       "    .dataframe tbody tr th {\n",
       "        vertical-align: top;\n",
       "    }\n",
       "\n",
       "    .dataframe thead th {\n",
       "        text-align: right;\n",
       "    }\n",
       "</style>\n",
       "<table border=\"1\" class=\"dataframe\">\n",
       "  <thead>\n",
       "    <tr style=\"text-align: right;\">\n",
       "      <th></th>\n",
       "      <th>date</th>\n",
       "      <th>group</th>\n",
       "      <th>visits</th>\n",
       "    </tr>\n",
       "  </thead>\n",
       "  <tbody>\n",
       "    <tr>\n",
       "      <th>55</th>\n",
       "      <td>2019-08-01</td>\n",
       "      <td>A</td>\n",
       "      <td>719</td>\n",
       "    </tr>\n",
       "    <tr>\n",
       "      <th>66</th>\n",
       "      <td>2019-08-01</td>\n",
       "      <td>B</td>\n",
       "      <td>713</td>\n",
       "    </tr>\n",
       "    <tr>\n",
       "      <th>175</th>\n",
       "      <td>2019-08-02</td>\n",
       "      <td>A</td>\n",
       "      <td>1338</td>\n",
       "    </tr>\n",
       "    <tr>\n",
       "      <th>173</th>\n",
       "      <td>2019-08-02</td>\n",
       "      <td>B</td>\n",
       "      <td>1294</td>\n",
       "    </tr>\n",
       "    <tr>\n",
       "      <th>291</th>\n",
       "      <td>2019-08-03</td>\n",
       "      <td>A</td>\n",
       "      <td>1845</td>\n",
       "    </tr>\n",
       "  </tbody>\n",
       "</table>\n",
       "</div>"
      ],
      "text/plain": [
       "          date group  visits\n",
       "55  2019-08-01     A     719\n",
       "66  2019-08-01     B     713\n",
       "175 2019-08-02     A    1338\n",
       "173 2019-08-02     B    1294\n",
       "291 2019-08-03     A    1845"
      ]
     },
     "execution_count": 33,
     "metadata": {},
     "output_type": "execute_result"
    }
   ],
   "source": [
    "v_aggregated = datesg.apply(lambda x: visits\n",
    "                            [np.logical_and(visits['date'] <= x['date'], visits['group'] == x['group'])].agg\n",
    "                            ({'date' : 'max', 'group' : 'max', 'visits' : 'sum'}), axis=1).sort_values(by=['date','group'])\n",
    "v_aggregated.head()\n"
   ]
  },
  {
   "cell_type": "markdown",
   "id": "9f7ba0b6",
   "metadata": {},
   "source": [
    "I did a similar calculation with the \"visits\" data frame, only summing the each group's visits each date. I called this table \"v_aggregated\". "
   ]
  },
  {
   "cell_type": "code",
   "execution_count": 34,
   "id": "5e4b39d3",
   "metadata": {},
   "outputs": [
    {
     "data": {
      "text/html": [
       "<div>\n",
       "<style scoped>\n",
       "    .dataframe tbody tr th:only-of-type {\n",
       "        vertical-align: middle;\n",
       "    }\n",
       "\n",
       "    .dataframe tbody tr th {\n",
       "        vertical-align: top;\n",
       "    }\n",
       "\n",
       "    .dataframe thead th {\n",
       "        text-align: right;\n",
       "    }\n",
       "</style>\n",
       "<table border=\"1\" class=\"dataframe\">\n",
       "  <thead>\n",
       "    <tr style=\"text-align: right;\">\n",
       "      <th></th>\n",
       "      <th>date</th>\n",
       "      <th>group</th>\n",
       "      <th>orders</th>\n",
       "      <th>buyers</th>\n",
       "      <th>revenue</th>\n",
       "      <th>visits</th>\n",
       "    </tr>\n",
       "  </thead>\n",
       "  <tbody>\n",
       "    <tr>\n",
       "      <th>0</th>\n",
       "      <td>2019-08-01</td>\n",
       "      <td>A</td>\n",
       "      <td>23</td>\n",
       "      <td>19</td>\n",
       "      <td>2266.6</td>\n",
       "      <td>719</td>\n",
       "    </tr>\n",
       "    <tr>\n",
       "      <th>1</th>\n",
       "      <td>2019-08-01</td>\n",
       "      <td>B</td>\n",
       "      <td>17</td>\n",
       "      <td>17</td>\n",
       "      <td>967.2</td>\n",
       "      <td>713</td>\n",
       "    </tr>\n",
       "    <tr>\n",
       "      <th>2</th>\n",
       "      <td>2019-08-02</td>\n",
       "      <td>A</td>\n",
       "      <td>42</td>\n",
       "      <td>36</td>\n",
       "      <td>3734.9</td>\n",
       "      <td>1338</td>\n",
       "    </tr>\n",
       "    <tr>\n",
       "      <th>3</th>\n",
       "      <td>2019-08-02</td>\n",
       "      <td>B</td>\n",
       "      <td>40</td>\n",
       "      <td>39</td>\n",
       "      <td>3535.3</td>\n",
       "      <td>1294</td>\n",
       "    </tr>\n",
       "    <tr>\n",
       "      <th>4</th>\n",
       "      <td>2019-08-03</td>\n",
       "      <td>A</td>\n",
       "      <td>66</td>\n",
       "      <td>60</td>\n",
       "      <td>5550.1</td>\n",
       "      <td>1845</td>\n",
       "    </tr>\n",
       "  </tbody>\n",
       "</table>\n",
       "</div>"
      ],
      "text/plain": [
       "        date group  orders  buyers  revenue  visits\n",
       "0 2019-08-01     A      23      19   2266.6     719\n",
       "1 2019-08-01     B      17      17    967.2     713\n",
       "2 2019-08-02     A      42      36   3734.9    1338\n",
       "3 2019-08-02     B      40      39   3535.3    1294\n",
       "4 2019-08-03     A      66      60   5550.1    1845"
      ]
     },
     "execution_count": 34,
     "metadata": {},
     "output_type": "execute_result"
    }
   ],
   "source": [
    "d_cumulative = o_aggregated.merge(v_aggregated, left_on=\n",
    "                                  ['date', 'group'], right_on=['date', 'group']).rename(columns=\n",
    "                                  {'transactionid': 'orders', 'visitorid':'buyers'})\n",
    "d_cumulative.head()"
   ]
  },
  {
   "cell_type": "markdown",
   "id": "5bda5f6e",
   "metadata": {},
   "source": [
    "I merged \"o_aggregated\" and \"v_aggregated\" on the \"date\" and \"group\" columns and changed the names of the columns to \"orders\" and \"buyers\"."
   ]
  },
  {
   "cell_type": "code",
   "execution_count": 35,
   "id": "de2ef51b",
   "metadata": {},
   "outputs": [
    {
     "data": {
      "text/html": [
       "<div>\n",
       "<style scoped>\n",
       "    .dataframe tbody tr th:only-of-type {\n",
       "        vertical-align: middle;\n",
       "    }\n",
       "\n",
       "    .dataframe tbody tr th {\n",
       "        vertical-align: top;\n",
       "    }\n",
       "\n",
       "    .dataframe thead th {\n",
       "        text-align: right;\n",
       "    }\n",
       "</style>\n",
       "<table border=\"1\" class=\"dataframe\">\n",
       "  <thead>\n",
       "    <tr style=\"text-align: right;\">\n",
       "      <th></th>\n",
       "      <th>date</th>\n",
       "      <th>revenue</th>\n",
       "      <th>orders</th>\n",
       "    </tr>\n",
       "  </thead>\n",
       "  <tbody>\n",
       "    <tr>\n",
       "      <th>0</th>\n",
       "      <td>2019-08-01</td>\n",
       "      <td>2266.6</td>\n",
       "      <td>23</td>\n",
       "    </tr>\n",
       "    <tr>\n",
       "      <th>2</th>\n",
       "      <td>2019-08-02</td>\n",
       "      <td>3734.9</td>\n",
       "      <td>42</td>\n",
       "    </tr>\n",
       "    <tr>\n",
       "      <th>4</th>\n",
       "      <td>2019-08-03</td>\n",
       "      <td>5550.1</td>\n",
       "      <td>66</td>\n",
       "    </tr>\n",
       "    <tr>\n",
       "      <th>6</th>\n",
       "      <td>2019-08-04</td>\n",
       "      <td>6225.6</td>\n",
       "      <td>77</td>\n",
       "    </tr>\n",
       "    <tr>\n",
       "      <th>8</th>\n",
       "      <td>2019-08-05</td>\n",
       "      <td>7623.6</td>\n",
       "      <td>99</td>\n",
       "    </tr>\n",
       "  </tbody>\n",
       "</table>\n",
       "</div>"
      ],
      "text/plain": [
       "        date  revenue  orders\n",
       "0 2019-08-01   2266.6      23\n",
       "2 2019-08-02   3734.9      42\n",
       "4 2019-08-03   5550.1      66\n",
       "6 2019-08-04   6225.6      77\n",
       "8 2019-08-05   7623.6      99"
      ]
     },
     "execution_count": 35,
     "metadata": {},
     "output_type": "execute_result"
    }
   ],
   "source": [
    "cumulative_ra = d_cumulative[d_cumulative['group']=='A'][['date','revenue', 'orders']]\n",
    "cumulative_ra.head()\n"
   ]
  },
  {
   "cell_type": "code",
   "execution_count": 36,
   "id": "a2e74d23",
   "metadata": {},
   "outputs": [
    {
     "data": {
      "text/html": [
       "<div>\n",
       "<style scoped>\n",
       "    .dataframe tbody tr th:only-of-type {\n",
       "        vertical-align: middle;\n",
       "    }\n",
       "\n",
       "    .dataframe tbody tr th {\n",
       "        vertical-align: top;\n",
       "    }\n",
       "\n",
       "    .dataframe thead th {\n",
       "        text-align: right;\n",
       "    }\n",
       "</style>\n",
       "<table border=\"1\" class=\"dataframe\">\n",
       "  <thead>\n",
       "    <tr style=\"text-align: right;\">\n",
       "      <th></th>\n",
       "      <th>date</th>\n",
       "      <th>revenue</th>\n",
       "      <th>orders</th>\n",
       "    </tr>\n",
       "  </thead>\n",
       "  <tbody>\n",
       "    <tr>\n",
       "      <th>1</th>\n",
       "      <td>2019-08-01</td>\n",
       "      <td>967.2</td>\n",
       "      <td>17</td>\n",
       "    </tr>\n",
       "    <tr>\n",
       "      <th>3</th>\n",
       "      <td>2019-08-02</td>\n",
       "      <td>3535.3</td>\n",
       "      <td>40</td>\n",
       "    </tr>\n",
       "    <tr>\n",
       "      <th>5</th>\n",
       "      <td>2019-08-03</td>\n",
       "      <td>4606.9</td>\n",
       "      <td>54</td>\n",
       "    </tr>\n",
       "    <tr>\n",
       "      <th>7</th>\n",
       "      <td>2019-08-04</td>\n",
       "      <td>6138.5</td>\n",
       "      <td>68</td>\n",
       "    </tr>\n",
       "    <tr>\n",
       "      <th>9</th>\n",
       "      <td>2019-08-05</td>\n",
       "      <td>7587.8</td>\n",
       "      <td>89</td>\n",
       "    </tr>\n",
       "  </tbody>\n",
       "</table>\n",
       "</div>"
      ],
      "text/plain": [
       "        date  revenue  orders\n",
       "1 2019-08-01    967.2      17\n",
       "3 2019-08-02   3535.3      40\n",
       "5 2019-08-03   4606.9      54\n",
       "7 2019-08-04   6138.5      68\n",
       "9 2019-08-05   7587.8      89"
      ]
     },
     "execution_count": 36,
     "metadata": {},
     "output_type": "execute_result"
    }
   ],
   "source": [
    "cumulative_rb = d_cumulative[d_cumulative['group']=='B'][['date','revenue', 'orders']]\n",
    "cumulative_rb.head()\n"
   ]
  },
  {
   "cell_type": "markdown",
   "id": "7234b168",
   "metadata": {},
   "source": [
    "Above, I divided the \"d_cumulative\" table into two tables - one for group A (\"cumulative_ra\") and one for group B (\"cumulative_rb\"). "
   ]
  },
  {
   "cell_type": "code",
   "execution_count": 37,
   "id": "9de3c89a",
   "metadata": {},
   "outputs": [
    {
     "data": {
      "image/png": "[encoded data removed]",
      "text/plain": [
       "<Figure size 936x576 with 1 Axes>"
      ]
     },
     "metadata": {
      "needs_background": "light"
     },
     "output_type": "display_data"
    }
   ],
   "source": [
    "plt.figure(figsize=(13, 8))\n",
    "plt.plot(cumulative_ra['date'], cumulative_ra['revenue'], label='A', color='mediumvioletred')\n",
    "plt.plot(cumulative_rb['date'], cumulative_rb['revenue'], label='B', color='darkcyan')\n",
    "plt.legend(['Group A','Group B'],loc='best', title=\"Groups\", fontsize=10, title_fontsize=12)\n",
    "plt.title('Cumulative Revenue per Group', size=13)\n",
    "plt.ylabel('Cumulative Revenu in $', size=10)\n",
    "plt.xlabel('Date', size=10)\n",
    "plt.grid(linewidth = 0.3)\n",
    "plt.show()"
   ]
  },
  {
   "cell_type": "markdown",
   "id": "046966a9",
   "metadata": {},
   "source": [
    "#### Conclusions and Conjectures"
   ]
  },
  {
   "cell_type": "markdown",
   "id": "a87061ce",
   "metadata": {},
   "source": [
    "As we can see from the graph above, presenting each group's cumulative revenue over a period of time, both groups' cumulative revenue is rising steadily throughout the whole test. However, group B has a steep hike in revenue around August 18th and then revenue stabilizes again - this might imply either a surge in the number of orders placed or few orders that are more expansive. Such outliers, or anomalies, will be examined at a later point of the test. \n",
    "\n",
    "Overall, both groups cumulative revenue is good. "
   ]
  },
  {
   "cell_type": "markdown",
   "id": "1301aca6",
   "metadata": {},
   "source": [
    "### Cumulative Average Order Size per Group"
   ]
  },
  {
   "cell_type": "markdown",
   "id": "44311ffd",
   "metadata": {},
   "source": [
    "#### Calculating and Graphing Average Order Size per Group"
   ]
  },
  {
   "cell_type": "markdown",
   "id": "c088f9de",
   "metadata": {},
   "source": [
    "To calculate each groups' average order size, I will divide each group's revenue by its number of orders. I will visualize this in a graph. "
   ]
  },
  {
   "cell_type": "code",
   "execution_count": 38,
   "id": "1ffb5a97",
   "metadata": {},
   "outputs": [
    {
     "data": {
      "image/png": "[encoded data removed]",
      "text/plain": [
       "<Figure size 936x576 with 1 Axes>"
      ]
     },
     "metadata": {
      "needs_background": "light"
     },
     "output_type": "display_data"
    }
   ],
   "source": [
    "plt.figure(figsize=(13, 8))\n",
    "plt.plot(cumulative_ra['date'], cumulative_ra['revenue']/cumulative_ra['orders'], label='A', color='mediumvioletred')\n",
    "plt.plot(cumulative_rb['date'], cumulative_rb['revenue']/cumulative_rb['orders'], label='B', color='darkcyan')\n",
    "plt.legend(['Group A','Group B'],loc='best', title=\"Groups\", fontsize=10, title_fontsize=12)\n",
    "plt.title('Cumulative Average Order Size per Group', size=13)\n",
    "plt.ylabel('Average Order Size in $', size=10)\n",
    "plt.xlabel('Date', size=10)\n",
    "plt.grid(linewidth = 0.3)\n",
    "plt.ylim(ymin=0)\n",
    "plt.show()"
   ]
  },
  {
   "cell_type": "markdown",
   "id": "fec940ad",
   "metadata": {},
   "source": [
    "#### Conclusions and Conjectures"
   ]
  },
  {
   "cell_type": "markdown",
   "id": "259ce51f",
   "metadata": {},
   "source": [
    "We can see that both groups' cumulative average order sizes are erratic throughout the test, and while group A's average is fairly stable from mid-August, group B's was slowly declining after the steep hike noted in the previous section. This graph indicates that it is more likely that the hike is due to large order sizes rather than a larger number of orders. However, this will be further examined in this test. "
   ]
  },
  {
   "cell_type": "markdown",
   "id": "ff0b088b",
   "metadata": {},
   "source": [
    "### Comparison of Relative Difference in Cumulative Average Order Size \n"
   ]
  },
  {
   "cell_type": "markdown",
   "id": "57f5bc86",
   "metadata": {},
   "source": [
    "#### Calculating and Graphing The Relative Difference in Cumulative Average Order Size"
   ]
  },
  {
   "cell_type": "code",
   "execution_count": 39,
   "id": "c917be4e",
   "metadata": {},
   "outputs": [
    {
     "data": {
      "text/html": [
       "<div>\n",
       "<style scoped>\n",
       "    .dataframe tbody tr th:only-of-type {\n",
       "        vertical-align: middle;\n",
       "    }\n",
       "\n",
       "    .dataframe tbody tr th {\n",
       "        vertical-align: top;\n",
       "    }\n",
       "\n",
       "    .dataframe thead th {\n",
       "        text-align: right;\n",
       "    }\n",
       "</style>\n",
       "<table border=\"1\" class=\"dataframe\">\n",
       "  <thead>\n",
       "    <tr style=\"text-align: right;\">\n",
       "      <th></th>\n",
       "      <th>date</th>\n",
       "      <th>revenue_a</th>\n",
       "      <th>orders_a</th>\n",
       "      <th>revenue_b</th>\n",
       "      <th>orders_b</th>\n",
       "    </tr>\n",
       "  </thead>\n",
       "  <tbody>\n",
       "    <tr>\n",
       "      <th>0</th>\n",
       "      <td>2019-08-01</td>\n",
       "      <td>2266.6</td>\n",
       "      <td>23</td>\n",
       "      <td>967.2</td>\n",
       "      <td>17</td>\n",
       "    </tr>\n",
       "    <tr>\n",
       "      <th>1</th>\n",
       "      <td>2019-08-02</td>\n",
       "      <td>3734.9</td>\n",
       "      <td>42</td>\n",
       "      <td>3535.3</td>\n",
       "      <td>40</td>\n",
       "    </tr>\n",
       "    <tr>\n",
       "      <th>2</th>\n",
       "      <td>2019-08-03</td>\n",
       "      <td>5550.1</td>\n",
       "      <td>66</td>\n",
       "      <td>4606.9</td>\n",
       "      <td>54</td>\n",
       "    </tr>\n",
       "    <tr>\n",
       "      <th>3</th>\n",
       "      <td>2019-08-04</td>\n",
       "      <td>6225.6</td>\n",
       "      <td>77</td>\n",
       "      <td>6138.5</td>\n",
       "      <td>68</td>\n",
       "    </tr>\n",
       "    <tr>\n",
       "      <th>4</th>\n",
       "      <td>2019-08-05</td>\n",
       "      <td>7623.6</td>\n",
       "      <td>99</td>\n",
       "      <td>7587.8</td>\n",
       "      <td>89</td>\n",
       "    </tr>\n",
       "  </tbody>\n",
       "</table>\n",
       "</div>"
      ],
      "text/plain": [
       "        date  revenue_a  orders_a  revenue_b  orders_b\n",
       "0 2019-08-01     2266.6        23      967.2        17\n",
       "1 2019-08-02     3734.9        42     3535.3        40\n",
       "2 2019-08-03     5550.1        66     4606.9        54\n",
       "3 2019-08-04     6225.6        77     6138.5        68\n",
       "4 2019-08-05     7623.6        99     7587.8        89"
      ]
     },
     "execution_count": 39,
     "metadata": {},
     "output_type": "execute_result"
    }
   ],
   "source": [
    "merged_cr = cumulative_ra.merge(cumulative_rb, left_on='date', right_on='date', how='left', suffixes=['A', 'B']).rename(columns={'revenueA': 'revenue_a', 'revenueB':'revenue_b', 'ordersA':'orders_a', 'ordersB':'orders_b'})\n",
    "merged_cr.head()\n"
   ]
  },
  {
   "cell_type": "markdown",
   "id": "8360e877",
   "metadata": {},
   "source": [
    "For the purpose of calculating the relative difference in cumulative order size between group B and group A, I merged the \"cumulative_ra\" and \"cumulative_rb\" tables into one table \"merged_cr\". \n",
    "\n",
    "The relative difference will be calculated by subtracting 1 from the division of average order size of group B by that of group A ((average B/average A) - 1). "
   ]
  },
  {
   "cell_type": "code",
   "execution_count": 40,
   "id": "0344e3ec",
   "metadata": {},
   "outputs": [
    {
     "data": {
      "image/png": "[encoded data removed]",
      "text/plain": [
       "<Figure size 936x576 with 1 Axes>"
      ]
     },
     "metadata": {
      "needs_background": "light"
     },
     "output_type": "display_data"
    }
   ],
   "source": [
    "plt.figure(figsize=(13, 8))\n",
    "plt.plot(merged_cr['date'], (merged_cr['revenue_b']/merged_cr['orders_b'])/(merged_cr['revenue_a']/merged_cr\n",
    "                                                                            ['orders_a'])-1, color='mediumpurple')\n",
    "plt.axhline(y=0, color='black', linestyle='-.', linewidth=2) \n",
    "plt.title('Relative Difference for the Average Order Sizes', size=13)\n",
    "plt.ylabel('Relative Difference', size=10)\n",
    "plt.xlabel('Date', size=10)\n",
    "plt.grid(linewidth = 0.3)\n",
    "plt.show()\n"
   ]
  },
  {
   "cell_type": "markdown",
   "id": "b96beb2e",
   "metadata": {},
   "source": [
    "#### Conclusions and Conjectures"
   ]
  },
  {
   "cell_type": "markdown",
   "id": "23c3a35d",
   "metadata": {},
   "source": [
    "We can see that there are spikes in the difference, both at around August 7th and August 18th. This means that there were probably large orders made by group B (as previously suspected) and some outliers/anomalies. "
   ]
  },
  {
   "cell_type": "markdown",
   "id": "de53243c",
   "metadata": {},
   "source": [
    "### Each Group's Conversion Rate "
   ]
  },
  {
   "cell_type": "markdown",
   "id": "4ddb23e9",
   "metadata": {},
   "source": [
    "#### Calculating and Graphing Each Group's Conversion Rate \n"
   ]
  },
  {
   "cell_type": "code",
   "execution_count": 41,
   "id": "3cdf0f4a",
   "metadata": {},
   "outputs": [
    {
     "data": {
      "text/html": [
       "<div>\n",
       "<style scoped>\n",
       "    .dataframe tbody tr th:only-of-type {\n",
       "        vertical-align: middle;\n",
       "    }\n",
       "\n",
       "    .dataframe tbody tr th {\n",
       "        vertical-align: top;\n",
       "    }\n",
       "\n",
       "    .dataframe thead th {\n",
       "        text-align: right;\n",
       "    }\n",
       "</style>\n",
       "<table border=\"1\" class=\"dataframe\">\n",
       "  <thead>\n",
       "    <tr style=\"text-align: right;\">\n",
       "      <th></th>\n",
       "      <th>date</th>\n",
       "      <th>group</th>\n",
       "      <th>orders</th>\n",
       "      <th>buyers</th>\n",
       "      <th>revenue</th>\n",
       "      <th>visits</th>\n",
       "      <th>conversion</th>\n",
       "    </tr>\n",
       "  </thead>\n",
       "  <tbody>\n",
       "    <tr>\n",
       "      <th>0</th>\n",
       "      <td>2019-08-01</td>\n",
       "      <td>A</td>\n",
       "      <td>23</td>\n",
       "      <td>19</td>\n",
       "      <td>2266.6</td>\n",
       "      <td>719</td>\n",
       "      <td>0.031989</td>\n",
       "    </tr>\n",
       "    <tr>\n",
       "      <th>1</th>\n",
       "      <td>2019-08-01</td>\n",
       "      <td>B</td>\n",
       "      <td>17</td>\n",
       "      <td>17</td>\n",
       "      <td>967.2</td>\n",
       "      <td>713</td>\n",
       "      <td>0.023843</td>\n",
       "    </tr>\n",
       "    <tr>\n",
       "      <th>2</th>\n",
       "      <td>2019-08-02</td>\n",
       "      <td>A</td>\n",
       "      <td>42</td>\n",
       "      <td>36</td>\n",
       "      <td>3734.9</td>\n",
       "      <td>1338</td>\n",
       "      <td>0.031390</td>\n",
       "    </tr>\n",
       "    <tr>\n",
       "      <th>3</th>\n",
       "      <td>2019-08-02</td>\n",
       "      <td>B</td>\n",
       "      <td>40</td>\n",
       "      <td>39</td>\n",
       "      <td>3535.3</td>\n",
       "      <td>1294</td>\n",
       "      <td>0.030912</td>\n",
       "    </tr>\n",
       "    <tr>\n",
       "      <th>4</th>\n",
       "      <td>2019-08-03</td>\n",
       "      <td>A</td>\n",
       "      <td>66</td>\n",
       "      <td>60</td>\n",
       "      <td>5550.1</td>\n",
       "      <td>1845</td>\n",
       "      <td>0.035772</td>\n",
       "    </tr>\n",
       "  </tbody>\n",
       "</table>\n",
       "</div>"
      ],
      "text/plain": [
       "        date group  orders  buyers  revenue  visits  conversion\n",
       "0 2019-08-01     A      23      19   2266.6     719    0.031989\n",
       "1 2019-08-01     B      17      17    967.2     713    0.023843\n",
       "2 2019-08-02     A      42      36   3734.9    1338    0.031390\n",
       "3 2019-08-02     B      40      39   3535.3    1294    0.030912\n",
       "4 2019-08-03     A      66      60   5550.1    1845    0.035772"
      ]
     },
     "execution_count": 41,
     "metadata": {},
     "output_type": "execute_result"
    }
   ],
   "source": [
    "d_cumulative['conversion'] = d_cumulative['orders']/d_cumulative['visits']\n",
    "d_cumulative.head()"
   ]
  },
  {
   "cell_type": "markdown",
   "id": "8f0e0b89",
   "metadata": {},
   "source": [
    "I calculated the conversion rate of each group per day by dividing the number of orders by the number of visits. "
   ]
  },
  {
   "cell_type": "code",
   "execution_count": 42,
   "id": "2b963299",
   "metadata": {},
   "outputs": [
    {
     "data": {
      "text/html": [
       "<div>\n",
       "<style scoped>\n",
       "    .dataframe tbody tr th:only-of-type {\n",
       "        vertical-align: middle;\n",
       "    }\n",
       "\n",
       "    .dataframe tbody tr th {\n",
       "        vertical-align: top;\n",
       "    }\n",
       "\n",
       "    .dataframe thead th {\n",
       "        text-align: right;\n",
       "    }\n",
       "</style>\n",
       "<table border=\"1\" class=\"dataframe\">\n",
       "  <thead>\n",
       "    <tr style=\"text-align: right;\">\n",
       "      <th></th>\n",
       "      <th>date</th>\n",
       "      <th>group</th>\n",
       "      <th>orders</th>\n",
       "      <th>buyers</th>\n",
       "      <th>revenue</th>\n",
       "      <th>visits</th>\n",
       "      <th>conversion</th>\n",
       "    </tr>\n",
       "  </thead>\n",
       "  <tbody>\n",
       "    <tr>\n",
       "      <th>0</th>\n",
       "      <td>2019-08-01</td>\n",
       "      <td>A</td>\n",
       "      <td>23</td>\n",
       "      <td>19</td>\n",
       "      <td>2266.6</td>\n",
       "      <td>719</td>\n",
       "      <td>0.031989</td>\n",
       "    </tr>\n",
       "    <tr>\n",
       "      <th>2</th>\n",
       "      <td>2019-08-02</td>\n",
       "      <td>A</td>\n",
       "      <td>42</td>\n",
       "      <td>36</td>\n",
       "      <td>3734.9</td>\n",
       "      <td>1338</td>\n",
       "      <td>0.031390</td>\n",
       "    </tr>\n",
       "    <tr>\n",
       "      <th>4</th>\n",
       "      <td>2019-08-03</td>\n",
       "      <td>A</td>\n",
       "      <td>66</td>\n",
       "      <td>60</td>\n",
       "      <td>5550.1</td>\n",
       "      <td>1845</td>\n",
       "      <td>0.035772</td>\n",
       "    </tr>\n",
       "    <tr>\n",
       "      <th>6</th>\n",
       "      <td>2019-08-04</td>\n",
       "      <td>A</td>\n",
       "      <td>77</td>\n",
       "      <td>71</td>\n",
       "      <td>6225.6</td>\n",
       "      <td>2562</td>\n",
       "      <td>0.030055</td>\n",
       "    </tr>\n",
       "    <tr>\n",
       "      <th>8</th>\n",
       "      <td>2019-08-05</td>\n",
       "      <td>A</td>\n",
       "      <td>99</td>\n",
       "      <td>92</td>\n",
       "      <td>7623.6</td>\n",
       "      <td>3318</td>\n",
       "      <td>0.029837</td>\n",
       "    </tr>\n",
       "  </tbody>\n",
       "</table>\n",
       "</div>"
      ],
      "text/plain": [
       "        date group  orders  buyers  revenue  visits  conversion\n",
       "0 2019-08-01     A      23      19   2266.6     719    0.031989\n",
       "2 2019-08-02     A      42      36   3734.9    1338    0.031390\n",
       "4 2019-08-03     A      66      60   5550.1    1845    0.035772\n",
       "6 2019-08-04     A      77      71   6225.6    2562    0.030055\n",
       "8 2019-08-05     A      99      92   7623.6    3318    0.029837"
      ]
     },
     "execution_count": 42,
     "metadata": {},
     "output_type": "execute_result"
    }
   ],
   "source": [
    "da_cumulative = d_cumulative[d_cumulative['group']=='A']\n",
    "da_cumulative.head()\n"
   ]
  },
  {
   "cell_type": "code",
   "execution_count": 43,
   "id": "e4dd649b",
   "metadata": {},
   "outputs": [
    {
     "data": {
      "text/html": [
       "<div>\n",
       "<style scoped>\n",
       "    .dataframe tbody tr th:only-of-type {\n",
       "        vertical-align: middle;\n",
       "    }\n",
       "\n",
       "    .dataframe tbody tr th {\n",
       "        vertical-align: top;\n",
       "    }\n",
       "\n",
       "    .dataframe thead th {\n",
       "        text-align: right;\n",
       "    }\n",
       "</style>\n",
       "<table border=\"1\" class=\"dataframe\">\n",
       "  <thead>\n",
       "    <tr style=\"text-align: right;\">\n",
       "      <th></th>\n",
       "      <th>date</th>\n",
       "      <th>group</th>\n",
       "      <th>orders</th>\n",
       "      <th>buyers</th>\n",
       "      <th>revenue</th>\n",
       "      <th>visits</th>\n",
       "      <th>conversion</th>\n",
       "    </tr>\n",
       "  </thead>\n",
       "  <tbody>\n",
       "    <tr>\n",
       "      <th>1</th>\n",
       "      <td>2019-08-01</td>\n",
       "      <td>B</td>\n",
       "      <td>17</td>\n",
       "      <td>17</td>\n",
       "      <td>967.2</td>\n",
       "      <td>713</td>\n",
       "      <td>0.023843</td>\n",
       "    </tr>\n",
       "    <tr>\n",
       "      <th>3</th>\n",
       "      <td>2019-08-02</td>\n",
       "      <td>B</td>\n",
       "      <td>40</td>\n",
       "      <td>39</td>\n",
       "      <td>3535.3</td>\n",
       "      <td>1294</td>\n",
       "      <td>0.030912</td>\n",
       "    </tr>\n",
       "    <tr>\n",
       "      <th>5</th>\n",
       "      <td>2019-08-03</td>\n",
       "      <td>B</td>\n",
       "      <td>54</td>\n",
       "      <td>53</td>\n",
       "      <td>4606.9</td>\n",
       "      <td>1803</td>\n",
       "      <td>0.029950</td>\n",
       "    </tr>\n",
       "    <tr>\n",
       "      <th>7</th>\n",
       "      <td>2019-08-04</td>\n",
       "      <td>B</td>\n",
       "      <td>68</td>\n",
       "      <td>66</td>\n",
       "      <td>6138.5</td>\n",
       "      <td>2573</td>\n",
       "      <td>0.026428</td>\n",
       "    </tr>\n",
       "    <tr>\n",
       "      <th>9</th>\n",
       "      <td>2019-08-05</td>\n",
       "      <td>B</td>\n",
       "      <td>89</td>\n",
       "      <td>87</td>\n",
       "      <td>7587.8</td>\n",
       "      <td>3280</td>\n",
       "      <td>0.027134</td>\n",
       "    </tr>\n",
       "  </tbody>\n",
       "</table>\n",
       "</div>"
      ],
      "text/plain": [
       "        date group  orders  buyers  revenue  visits  conversion\n",
       "1 2019-08-01     B      17      17    967.2     713    0.023843\n",
       "3 2019-08-02     B      40      39   3535.3    1294    0.030912\n",
       "5 2019-08-03     B      54      53   4606.9    1803    0.029950\n",
       "7 2019-08-04     B      68      66   6138.5    2573    0.026428\n",
       "9 2019-08-05     B      89      87   7587.8    3280    0.027134"
      ]
     },
     "execution_count": 43,
     "metadata": {},
     "output_type": "execute_result"
    }
   ],
   "source": [
    "db_cumulative = d_cumulative[d_cumulative['group']=='B']\n",
    "db_cumulative.head()\n"
   ]
  },
  {
   "cell_type": "markdown",
   "id": "c3a76705",
   "metadata": {},
   "source": [
    "I divided the previous table to represent each group separately, \"da_cumulative\" and \"db_cumulative\". "
   ]
  },
  {
   "cell_type": "code",
   "execution_count": 44,
   "id": "260aae98",
   "metadata": {
    "scrolled": false
   },
   "outputs": [
    {
     "data": {
      "image/png": "[encoded data removed]",
      "text/plain": [
       "<Figure size 936x576 with 1 Axes>"
      ]
     },
     "metadata": {
      "needs_background": "light"
     },
     "output_type": "display_data"
    }
   ],
   "source": [
    "plt.figure(figsize=(13, 8))\n",
    "plt.plot(da_cumulative['date'], da_cumulative['conversion'], label='A', color='mediumvioletred')\n",
    "plt.plot(db_cumulative['date'], db_cumulative['conversion'], label='B', color='darkcyan')\n",
    "plt.legend(['Group A','Group B'],loc='best', title=\"Groups\", fontsize=10, title_fontsize=12)\n",
    "plt.title('Daily Conversion Rates per Group', size=13)\n",
    "plt.ylabel('Conversion Rate', size=10)\n",
    "plt.xlabel('Date', size=10)\n",
    "plt.ylim(ymin=0)\n",
    "plt.grid(linewidth = 0.3)\n",
    "plt.show()\n"
   ]
  },
  {
   "cell_type": "markdown",
   "id": "2c730c72",
   "metadata": {},
   "source": [
    "As we can see, at first, group A's conversion rate was higher than that of group B's. Then, both spiked and dipped around the same time. However, once group A's conversion rate dipped, it kept slipping and then stabilized. On the other hand, group B's conversion rate recuperated and rose again. Both groups stabilized around the same time, August 21st, dipping at the end of August.  "
   ]
  },
  {
   "cell_type": "markdown",
   "id": "6de05059",
   "metadata": {},
   "source": [
    "#### Calculating and Graphing Relative Difference in the Daily Conversion Rates"
   ]
  },
  {
   "cell_type": "code",
   "execution_count": 45,
   "id": "73ba67c2",
   "metadata": {},
   "outputs": [
    {
     "data": {
      "text/html": [
       "<div>\n",
       "<style scoped>\n",
       "    .dataframe tbody tr th:only-of-type {\n",
       "        vertical-align: middle;\n",
       "    }\n",
       "\n",
       "    .dataframe tbody tr th {\n",
       "        vertical-align: top;\n",
       "    }\n",
       "\n",
       "    .dataframe thead th {\n",
       "        text-align: right;\n",
       "    }\n",
       "</style>\n",
       "<table border=\"1\" class=\"dataframe\">\n",
       "  <thead>\n",
       "    <tr style=\"text-align: right;\">\n",
       "      <th></th>\n",
       "      <th>date</th>\n",
       "      <th>conversion_a</th>\n",
       "      <th>conversion_b</th>\n",
       "    </tr>\n",
       "  </thead>\n",
       "  <tbody>\n",
       "    <tr>\n",
       "      <th>0</th>\n",
       "      <td>2019-08-01</td>\n",
       "      <td>0.031989</td>\n",
       "      <td>0.023843</td>\n",
       "    </tr>\n",
       "    <tr>\n",
       "      <th>1</th>\n",
       "      <td>2019-08-02</td>\n",
       "      <td>0.031390</td>\n",
       "      <td>0.030912</td>\n",
       "    </tr>\n",
       "    <tr>\n",
       "      <th>2</th>\n",
       "      <td>2019-08-03</td>\n",
       "      <td>0.035772</td>\n",
       "      <td>0.029950</td>\n",
       "    </tr>\n",
       "    <tr>\n",
       "      <th>3</th>\n",
       "      <td>2019-08-04</td>\n",
       "      <td>0.030055</td>\n",
       "      <td>0.026428</td>\n",
       "    </tr>\n",
       "    <tr>\n",
       "      <th>4</th>\n",
       "      <td>2019-08-05</td>\n",
       "      <td>0.029837</td>\n",
       "      <td>0.027134</td>\n",
       "    </tr>\n",
       "  </tbody>\n",
       "</table>\n",
       "</div>"
      ],
      "text/plain": [
       "        date  conversion_a  conversion_b\n",
       "0 2019-08-01      0.031989      0.023843\n",
       "1 2019-08-02      0.031390      0.030912\n",
       "2 2019-08-03      0.035772      0.029950\n",
       "3 2019-08-04      0.030055      0.026428\n",
       "4 2019-08-05      0.029837      0.027134"
      ]
     },
     "execution_count": 45,
     "metadata": {},
     "output_type": "execute_result"
    }
   ],
   "source": [
    "mc_cumulative = da_cumulative[['date','conversion']\n",
    "                             ].merge(db_cumulative[['date','conversion']], left_on='date', \n",
    "                             right_on='date', how='left', suffixes=['A', 'B']).rename(columns=\n",
    "                            {'conversionA': 'conversion_a', 'conversionB':'conversion_b'})\n",
    "mc_cumulative.head()\n"
   ]
  },
  {
   "cell_type": "markdown",
   "id": "635a2fe8",
   "metadata": {},
   "source": [
    "I merged the previously separated tables for the conversion rates of group A and group B, so now there is a column for the conversion rate of each per date. \n",
    "The relative difference between the daily conversion rate of each group will be calculated by subtracting 1 from the division the conversion rate of group B's by group A's ((conversion rate b/conversion rate a)-1). "
   ]
  },
  {
   "cell_type": "code",
   "execution_count": 46,
   "id": "ccd0a88b",
   "metadata": {},
   "outputs": [
    {
     "data": {
      "image/png": "[encoded data removed]",
      "text/plain": [
       "<Figure size 936x576 with 1 Axes>"
      ]
     },
     "metadata": {
      "needs_background": "light"
     },
     "output_type": "display_data"
    }
   ],
   "source": [
    "plt.figure(figsize=(13, 8))\n",
    "plt.plot(mc_cumulative['date'], mc_cumulative['conversion_b']/\n",
    "         mc_cumulative['conversion_a']-1, color='mediumpurple')\n",
    "plt.axhline(y=0, color='black', linestyle='-.', linewidth=2)\n",
    "plt.axhline(y=-0.1, color='tomato', linestyle='-.', linewidth=2)\n",
    "plt.title('Relative Difference for the Conversion Rates', size=13)\n",
    "plt.ylabel('Relative Difference', size=10)\n",
    "plt.xlabel('Date', size=10)\n",
    "plt.grid(linewidth = 0.3)\n",
    "plt.show()"
   ]
  },
  {
   "cell_type": "markdown",
   "id": "99c4f8d0",
   "metadata": {},
   "source": [
    "#### Conclusions and Conjectures"
   ]
  },
  {
   "cell_type": "markdown",
   "id": "6d332035",
   "metadata": {},
   "source": [
    "We can see that, at the beginning of the test, group B's conversion rate fell short of group A's conversion rate. Then it took the lead, only to lag behind again and then to climb. After that, it is still a little erratic and it's growing gradually at the end of the test. \n",
    "\n",
    "Overall, the conversion ratio is still a little erratic and unstable - perhaps because of anomalies and outliers in the data. "
   ]
  },
  {
   "cell_type": "markdown",
   "id": "321a9c81",
   "metadata": {},
   "source": [
    "### Anomalies in Orders' Amount and Prices"
   ]
  },
  {
   "cell_type": "markdown",
   "id": "c940ad49",
   "metadata": {},
   "source": [
    "#### Orders per User"
   ]
  },
  {
   "cell_type": "markdown",
   "id": "506be041",
   "metadata": {},
   "source": [
    "##### Calculating and Graphing Orders per User"
   ]
  },
  {
   "cell_type": "code",
   "execution_count": 47,
   "id": "e3c10933",
   "metadata": {},
   "outputs": [
    {
     "data": {
      "text/html": [
       "<div>\n",
       "<style scoped>\n",
       "    .dataframe tbody tr th:only-of-type {\n",
       "        vertical-align: middle;\n",
       "    }\n",
       "\n",
       "    .dataframe tbody tr th {\n",
       "        vertical-align: top;\n",
       "    }\n",
       "\n",
       "    .dataframe thead th {\n",
       "        text-align: right;\n",
       "    }\n",
       "</style>\n",
       "<table border=\"1\" class=\"dataframe\">\n",
       "  <thead>\n",
       "    <tr style=\"text-align: right;\">\n",
       "      <th></th>\n",
       "      <th>users</th>\n",
       "      <th>orders</th>\n",
       "    </tr>\n",
       "  </thead>\n",
       "  <tbody>\n",
       "    <tr>\n",
       "      <th>908</th>\n",
       "      <td>3967698036</td>\n",
       "      <td>3</td>\n",
       "    </tr>\n",
       "    <tr>\n",
       "      <th>55</th>\n",
       "      <td>249864742</td>\n",
       "      <td>3</td>\n",
       "    </tr>\n",
       "    <tr>\n",
       "      <th>478</th>\n",
       "      <td>2108163459</td>\n",
       "      <td>3</td>\n",
       "    </tr>\n",
       "    <tr>\n",
       "      <th>687</th>\n",
       "      <td>2988190573</td>\n",
       "      <td>3</td>\n",
       "    </tr>\n",
       "    <tr>\n",
       "      <th>890</th>\n",
       "      <td>3908431265</td>\n",
       "      <td>3</td>\n",
       "    </tr>\n",
       "  </tbody>\n",
       "</table>\n",
       "</div>"
      ],
      "text/plain": [
       "          users  orders\n",
       "908  3967698036       3\n",
       "55    249864742       3\n",
       "478  2108163459       3\n",
       "687  2988190573       3\n",
       "890  3908431265       3"
      ]
     },
     "execution_count": 47,
     "metadata": {},
     "output_type": "execute_result"
    }
   ],
   "source": [
    "orders_u = (filtered_orders.drop(['group', 'revenue', 'date'], \n",
    "                                 axis=1).groupby('visitorid', as_index=False).agg\n",
    "            ({'transactionid': pd.Series.nunique})).rename(columns={'visitorid': 'users', \n",
    "            'transactionid':'orders'}).sort_values(by='orders', ascending=False)\n",
    "orders_u.head()\n"
   ]
  },
  {
   "cell_type": "markdown",
   "id": "fd5b6388",
   "metadata": {},
   "source": [
    "I created a table called \"orders_u\". I dropped the date, group and revenue columns from the \"filtered_orders\" data frame and grouped by the \"visitorid\" column and calculated the number of unique transactions each user made, then I renamed the columns and sorted by the number of orders, in descending order. "
   ]
  },
  {
   "cell_type": "code",
   "execution_count": 48,
   "id": "44f6cd0c",
   "metadata": {
    "scrolled": true
   },
   "outputs": [
    {
     "data": {
      "image/png": "[encoded data removed]",
      "text/plain": [
       "<Figure size 720x360 with 1 Axes>"
      ]
     },
     "metadata": {
      "needs_background": "light"
     },
     "output_type": "display_data"
    }
   ],
   "source": [
    "x_values = pd.Series(range(0,len(orders_u)))\n",
    "plt.figure(figsize=(10, 5))\n",
    "plt.scatter(x_values, orders_u['orders'].sort_values(ascending=True), color='crimson')\n",
    "plt.title('Number of Orders per User', size=13)\n",
    "plt.ylabel('Number of Orders', size=10)\n",
    "plt.xlabel('Number of Users', size=10)\n",
    "plt.grid(linewidth = 0.3)\n",
    "plt.show()"
   ]
  },
  {
   "cell_type": "markdown",
   "id": "10f3b312",
   "metadata": {},
   "source": [
    "##### Conclusions and Conjectures"
   ]
  },
  {
   "cell_type": "markdown",
   "id": "28b33b54",
   "metadata": {},
   "source": [
    "As we can see, the lion's share of users only made 1 order during the test period while very few users made 2 orders and even fewer, 3. "
   ]
  },
  {
   "cell_type": "markdown",
   "id": "2d7c3111",
   "metadata": {},
   "source": [
    "##### Anomalies in the Number of Orders per User\n"
   ]
  },
  {
   "cell_type": "code",
   "execution_count": 49,
   "id": "1d040b80",
   "metadata": {},
   "outputs": [
    {
     "data": {
      "text/plain": [
       "array([1., 2.])"
      ]
     },
     "execution_count": 49,
     "metadata": {},
     "output_type": "execute_result"
    }
   ],
   "source": [
    "np.percentile(orders_u['orders'], [95, 99])"
   ]
  },
  {
   "cell_type": "markdown",
   "id": "664b76d6",
   "metadata": {},
   "source": [
    "Above, I calculated the 95th and 99th percentiles for the number of orders per user. The 95th percentile is 1 order per user and the 99th is 2 orders per user. This means that no more than 5% of users placed more than 1 order and only 1% more than 2. \n",
    "\n",
    "**At this point, I conclude that any more than 2 orders is considered an anomaly.**"
   ]
  },
  {
   "cell_type": "markdown",
   "id": "226006e4",
   "metadata": {},
   "source": [
    "#### Order Prices\n"
   ]
  },
  {
   "cell_type": "markdown",
   "id": "609b275b",
   "metadata": {},
   "source": [
    "##### Calculating and Graphing Order Prices"
   ]
  },
  {
   "cell_type": "code",
   "execution_count": 50,
   "id": "259a26a4",
   "metadata": {},
   "outputs": [
    {
     "data": {
      "image/png": "[encoded data removed]",
      "text/plain": [
       "<Figure size 720x360 with 1 Axes>"
      ]
     },
     "metadata": {
      "needs_background": "light"
     },
     "output_type": "display_data"
    }
   ],
   "source": [
    "x_values = pd.Series(range(0, len(filtered_orders['revenue'])))\n",
    "plt.figure(figsize=(10, 5))\n",
    "plt.scatter(x_values, filtered_orders['revenue'], color='crimson')\n",
    "plt.title('Price of Each Order', size=13)\n",
    "plt.ylabel('Price Range', size=10)\n",
    "plt.xlabel('Number of Orders', size=10)\n",
    "plt.grid(linewidth = 0.3)\n",
    "plt.show()"
   ]
  },
  {
   "cell_type": "markdown",
   "id": "1bb465cb",
   "metadata": {},
   "source": [
    "As we can see, there are some outliers/anomalies. I will build an additional plot where the lion's share of order prices can be further examined. \n"
   ]
  },
  {
   "cell_type": "code",
   "execution_count": 51,
   "id": "5064c30a",
   "metadata": {},
   "outputs": [
    {
     "data": {
      "image/png": "[encoded data removed]",
      "text/plain": [
       "<Figure size 720x360 with 1 Axes>"
      ]
     },
     "metadata": {
      "needs_background": "light"
     },
     "output_type": "display_data"
    }
   ],
   "source": [
    "fil_rev = filtered_orders.query('revenue < 2500')\n",
    "x_values = pd.Series(range(0, len(fil_rev['revenue'])))\n",
    "plt.figure(figsize=(10, 5))\n",
    "plt.scatter(x_values, fil_rev['revenue'], color='crimson')\n",
    "plt.title('Filtered Price of Each Order', size=13)\n",
    "plt.ylabel('Price Range', size=10)\n",
    "plt.xlabel('Number of Orders', size=10)\n",
    "plt.grid(linewidth = 0.3)\n",
    "plt.show()"
   ]
  },
  {
   "cell_type": "markdown",
   "id": "941bf843",
   "metadata": {},
   "source": [
    "##### Conclusions and Conjectures"
   ]
  },
  {
   "cell_type": "markdown",
   "id": "034b6f0d",
   "metadata": {},
   "source": [
    "From the scatted plot above, we can see that most of the orders placed by the users were priced at no more than about $1,500. \n",
    "\n",
    "Only a couple of orders were priced higher - one of the at $20,000 (here is our spike!). \n",
    "    \n"
   ]
  },
  {
   "cell_type": "markdown",
   "id": "ce508bb3",
   "metadata": {},
   "source": [
    "##### Anomalies in Orders Prices"
   ]
  },
  {
   "cell_type": "code",
   "execution_count": 52,
   "id": "51c052ab",
   "metadata": {},
   "outputs": [
    {
     "data": {
      "text/plain": [
       "array([414.275, 830.3  ])"
      ]
     },
     "execution_count": 52,
     "metadata": {},
     "output_type": "execute_result"
    }
   ],
   "source": [
    "np.percentile(filtered_orders['revenue'], [95, 99])"
   ]
  },
  {
   "cell_type": "markdown",
   "id": "ffdedf95",
   "metadata": {},
   "source": [
    "Above, I calculated the 95th and 99th percentiles for the order prices. The 95th percentile is $414 per order. \n",
    "\n",
    "The 99th is $830 per order. \n",
    "\n",
    "This means that no more than 5% of orders cost more than $414. \n",
    "\n",
    "Only 1% more than $830. \n",
    "\n",
    "**At this point, I conclude that orders priced over $414.275 is considered an anomaly.**"
   ]
  },
  {
   "cell_type": "markdown",
   "id": "580ff4fa",
   "metadata": {},
   "source": [
    "### Raw Data - Statistical Significance"
   ]
  },
  {
   "cell_type": "markdown",
   "id": "a095102c",
   "metadata": {},
   "source": [
    "#### Statistical Significance of the Difference in Conversion (Raw Data)"
   ]
  },
  {
   "cell_type": "markdown",
   "id": "402e10e6",
   "metadata": {},
   "source": [
    "Hereinafter, I will test the Null Hypothesis (H0) that group A's conversion rate is equal to that of group B in the **raw data** (i.e., including outliers and anomalies).\n",
    "\n",
    "If rejected, the Alternative Hypothesis (H1) is that group A's conversion rate is NOT equal to that of group B.\n",
    "    "
   ]
  },
  {
   "cell_type": "markdown",
   "id": "75442563",
   "metadata": {},
   "source": [
    "##### Calculating the Statistical Significance of the Difference in Conversion "
   ]
  },
  {
   "cell_type": "code",
   "execution_count": 53,
   "id": "4f92da1b",
   "metadata": {},
   "outputs": [
    {
     "data": {
      "text/html": [
       "<div>\n",
       "<style scoped>\n",
       "    .dataframe tbody tr th:only-of-type {\n",
       "        vertical-align: middle;\n",
       "    }\n",
       "\n",
       "    .dataframe tbody tr th {\n",
       "        vertical-align: top;\n",
       "    }\n",
       "\n",
       "    .dataframe thead th {\n",
       "        text-align: right;\n",
       "    }\n",
       "</style>\n",
       "<table border=\"1\" class=\"dataframe\">\n",
       "  <thead>\n",
       "    <tr style=\"text-align: right;\">\n",
       "      <th></th>\n",
       "      <th>users</th>\n",
       "      <th>orders</th>\n",
       "    </tr>\n",
       "  </thead>\n",
       "  <tbody>\n",
       "    <tr>\n",
       "      <th>0</th>\n",
       "      <td>11685486</td>\n",
       "      <td>1</td>\n",
       "    </tr>\n",
       "    <tr>\n",
       "      <th>1</th>\n",
       "      <td>54447517</td>\n",
       "      <td>1</td>\n",
       "    </tr>\n",
       "    <tr>\n",
       "      <th>2</th>\n",
       "      <td>66685450</td>\n",
       "      <td>1</td>\n",
       "    </tr>\n",
       "    <tr>\n",
       "      <th>3</th>\n",
       "      <td>78758296</td>\n",
       "      <td>1</td>\n",
       "    </tr>\n",
       "    <tr>\n",
       "      <th>4</th>\n",
       "      <td>85103373</td>\n",
       "      <td>1</td>\n",
       "    </tr>\n",
       "  </tbody>\n",
       "</table>\n",
       "</div>"
      ],
      "text/plain": [
       "      users  orders\n",
       "0  11685486       1\n",
       "1  54447517       1\n",
       "2  66685450       1\n",
       "3  78758296       1\n",
       "4  85103373       1"
      ]
     },
     "execution_count": 53,
     "metadata": {},
     "output_type": "execute_result"
    }
   ],
   "source": [
    "orders_ua = filtered_orders[filtered_orders\n",
    "                            ['group']=='A'].groupby('visitorid', as_index=False).agg({'transactionid' : \n",
    "                            pd.Series.nunique}).rename(columns={'visitorid': 'users', 'transactionid':'orders'})\n",
    "orders_ua.head()\n"
   ]
  },
  {
   "cell_type": "markdown",
   "id": "dc63f1d7",
   "metadata": {},
   "source": [
    "I created a table called \"orders_ua\" by grouping the users of group A by the visitor ID and counting their unique number of orders. Then, I renamed the columns. "
   ]
  },
  {
   "cell_type": "code",
   "execution_count": 54,
   "id": "d9e485dd",
   "metadata": {
    "scrolled": true
   },
   "outputs": [
    {
     "data": {
      "text/html": [
       "<div>\n",
       "<style scoped>\n",
       "    .dataframe tbody tr th:only-of-type {\n",
       "        vertical-align: middle;\n",
       "    }\n",
       "\n",
       "    .dataframe tbody tr th {\n",
       "        vertical-align: top;\n",
       "    }\n",
       "\n",
       "    .dataframe thead th {\n",
       "        text-align: right;\n",
       "    }\n",
       "</style>\n",
       "<table border=\"1\" class=\"dataframe\">\n",
       "  <thead>\n",
       "    <tr style=\"text-align: right;\">\n",
       "      <th></th>\n",
       "      <th>users</th>\n",
       "      <th>orders</th>\n",
       "    </tr>\n",
       "  </thead>\n",
       "  <tbody>\n",
       "    <tr>\n",
       "      <th>0</th>\n",
       "      <td>5114589</td>\n",
       "      <td>1</td>\n",
       "    </tr>\n",
       "    <tr>\n",
       "      <th>1</th>\n",
       "      <td>6958315</td>\n",
       "      <td>1</td>\n",
       "    </tr>\n",
       "    <tr>\n",
       "      <th>2</th>\n",
       "      <td>39475350</td>\n",
       "      <td>1</td>\n",
       "    </tr>\n",
       "    <tr>\n",
       "      <th>3</th>\n",
       "      <td>47206413</td>\n",
       "      <td>1</td>\n",
       "    </tr>\n",
       "    <tr>\n",
       "      <th>4</th>\n",
       "      <td>48147722</td>\n",
       "      <td>1</td>\n",
       "    </tr>\n",
       "  </tbody>\n",
       "</table>\n",
       "</div>"
      ],
      "text/plain": [
       "      users  orders\n",
       "0   5114589       1\n",
       "1   6958315       1\n",
       "2  39475350       1\n",
       "3  47206413       1\n",
       "4  48147722       1"
      ]
     },
     "execution_count": 54,
     "metadata": {},
     "output_type": "execute_result"
    }
   ],
   "source": [
    "orders_ub = filtered_orders[filtered_orders\n",
    "                            ['group']=='B'].groupby('visitorid', as_index=False).agg({'transactionid' : \n",
    "                            pd.Series.nunique}).rename(columns={'visitorid': 'users', 'transactionid':'orders'})\n",
    "orders_ub.head()\n"
   ]
  },
  {
   "cell_type": "markdown",
   "id": "59df685a",
   "metadata": {},
   "source": [
    "I created a table for the group B users, using the same technique as before. I called in \"orders_ub\". "
   ]
  },
  {
   "cell_type": "code",
   "execution_count": 55,
   "id": "b8160f07",
   "metadata": {},
   "outputs": [
    {
     "data": {
      "text/plain": [
       "0    1\n",
       "1    1\n",
       "2    1\n",
       "3    1\n",
       "4    1\n",
       "Name: orders, dtype: int64"
      ]
     },
     "execution_count": 55,
     "metadata": {},
     "output_type": "execute_result"
    }
   ],
   "source": [
    "sample_a = pd.concat([orders_ua['orders'],\n",
    "                      pd.Series(0, index=np.arange(visits[visits['group']=='A']['visits'].sum() \n",
    "                      - len(orders_ua['orders'])), name='orders')],axis=0)\n",
    "sample_a.head()\n"
   ]
  },
  {
   "cell_type": "markdown",
   "id": "80a4c94c",
   "metadata": {},
   "source": [
    "I created a list of indices called \"sample_a\" using pd.concat() - this list has the number of orders for each user and zeroes for users who didn't place any orders (subtracting the sum of visits by the group members from the length of orders_ua). "
   ]
  },
  {
   "cell_type": "code",
   "execution_count": 56,
   "id": "0260aff3",
   "metadata": {},
   "outputs": [
    {
     "data": {
      "text/plain": [
       "0    1\n",
       "1    1\n",
       "2    1\n",
       "3    1\n",
       "4    1\n",
       "Name: orders, dtype: int64"
      ]
     },
     "execution_count": 56,
     "metadata": {},
     "output_type": "execute_result"
    }
   ],
   "source": [
    "sample_b = pd.concat([orders_ub['orders'],\n",
    "                      pd.Series(0, index=np.arange(visits[visits['group']=='B']['visits'].sum()\n",
    "                      - len(orders_ub['orders'])), name='orders')],axis=0)\n",
    "sample_b.head()\n"
   ]
  },
  {
   "cell_type": "markdown",
   "id": "252bd541",
   "metadata": {},
   "source": [
    "I created the same list for group B, called it \"sample_b\"."
   ]
  },
  {
   "cell_type": "code",
   "execution_count": 57,
   "id": "9068629e",
   "metadata": {},
   "outputs": [
    {
     "name": "stdout",
     "output_type": "stream",
     "text": [
      "p-value: 0.011\n",
      "We reject the Null Hypothesis (H0) using significance level (alpha) of 0.05\n",
      "The relative loss/gain of group B is 16%\n"
     ]
    }
   ],
   "source": [
    "alpha = 0.05\n",
    "\n",
    "results = stats.mannwhitneyu(sample_a, sample_b)[1]\n",
    "\n",
    "print('p-value: {:.3f}'.format(results))\n",
    "\n",
    "if results < alpha:\n",
    "    print(\"We reject the Null Hypothesis (H0) using significance level (alpha) of 0.05\")\n",
    "else:\n",
    "    print(\"We can't reject the Null Hypothesis (H0) using significance level (alpha) of 0.05\") \n",
    "print(\"The relative loss/gain of group B is {:.0f}%\".format(((sample_b.mean()/sample_a.mean()-1))*100))\n"
   ]
  },
  {
   "cell_type": "markdown",
   "id": "e00dbe06",
   "metadata": {},
   "source": [
    "##### Conclusions and Conjectures"
   ]
  },
  {
   "cell_type": "markdown",
   "id": "0727ba35",
   "metadata": {},
   "source": [
    "Based on the raw data, using 0.05 significance level, the conversion rate of groups A and B is unequal. \n",
    "\n",
    "The alpha (0.05) is higher than the p-value - this means we reject the null hypothesis that the conversion rate of the two groups is equal. It should also be noted that the relative gain of group B is 16%.\n",
    " \n"
   ]
  },
  {
   "cell_type": "markdown",
   "id": "1d702ff9",
   "metadata": {},
   "source": [
    "#### Statistical Significance of the Difference in Average Order Size (Raw Data)\n"
   ]
  },
  {
   "cell_type": "markdown",
   "id": "1b37577c",
   "metadata": {},
   "source": [
    "Hereinafter, I will test the Null Hypothesis (H0) that group A's average order size is equal to that of group B in the **raw data** (i.e., including outliers and anomalies).\n",
    "\n",
    "If rejected, the Alternative Hypothesis (H1) is that group A's average order size is NOT equal to that of group B.\n",
    "    \n"
   ]
  },
  {
   "cell_type": "markdown",
   "id": "cc755fc0",
   "metadata": {},
   "source": [
    "##### Calculating the Statistical Significance of the Difference in Average Order Size "
   ]
  },
  {
   "cell_type": "code",
   "execution_count": 58,
   "id": "f6cc6258",
   "metadata": {
    "scrolled": true
   },
   "outputs": [
    {
     "name": "stdout",
     "output_type": "stream",
     "text": [
      "p-value: 0.862\n",
      "We can't reject the Null Hypothesis (H0) using significance level (alpha) of 0.05\n",
      "The relative loss/gain of group B is 27.8%\n"
     ]
    }
   ],
   "source": [
    "alpha = 0.05\n",
    "\n",
    "results = stats.mannwhitneyu(filtered_orders[filtered_orders['group']=='A']\n",
    "                             ['revenue'], filtered_orders[filtered_orders['group']=='B']['revenue'])[1]\n",
    "\n",
    "print('p-value: {0:.3f}'.format(results))\n",
    "\n",
    "if results < alpha:\n",
    "    print(\"We reject the Null Hypothesis (H0) using significance level (alpha) of 0.05\")\n",
    "else:\n",
    "    print(\"We can't reject the Null Hypothesis (H0) using significance level (alpha) of 0.05\") \n",
    "print(\"The relative loss/gain of group B is {0:.1f}%\".format((filtered_orders[filtered_orders['group']=='B']['revenue'].mean()/filtered_orders[filtered_orders['group']=='A']['revenue'].mean()-1)*100))\n"
   ]
  },
  {
   "cell_type": "markdown",
   "id": "31bab4f2",
   "metadata": {},
   "source": [
    "##### Conclusions and Conjectures"
   ]
  },
  {
   "cell_type": "markdown",
   "id": "9bde7039",
   "metadata": {},
   "source": [
    "Based on the raw data, using 0.05 significance level, the average order size of groups A and B is equal.\n",
    "\n",
    "The p-value is higher than the alpha (0.05) - this means that we can't reject the null hypothesis that the average order size of the two groups is equal. It should also be noted that group B's average order size is much bigger than it is for group A.\n"
   ]
  },
  {
   "cell_type": "markdown",
   "id": "c2b85e5d",
   "metadata": {},
   "source": [
    "### Filtered Data - Statistical Significance"
   ]
  },
  {
   "cell_type": "markdown",
   "id": "f7752d05",
   "metadata": {},
   "source": [
    "#### Statistical Significance of the Difference in Conversion (Filtered Data)"
   ]
  },
  {
   "cell_type": "markdown",
   "id": "302a81c1",
   "metadata": {},
   "source": [
    "Hereinafter, I will test the Null Hypothesis (H0) that group A's conversion rate is equal to that of group B in the **filtered data** (i.e., excluding outliers and anomalies).\n",
    "\n",
    "If rejected, the Alternative Hypothesis (H1) is that group A's conversion rate is NOT equal to that of group B.\n",
    "    \n"
   ]
  },
  {
   "cell_type": "markdown",
   "id": "217971d4",
   "metadata": {},
   "source": [
    "##### Calculating the Statistical Significance of the Difference in Conversion "
   ]
  },
  {
   "cell_type": "code",
   "execution_count": 64,
   "id": "37ae5b37",
   "metadata": {},
   "outputs": [],
   "source": [
    "abnormal_u = pd.concat([pd.concat([orders_ua[orders_ua['orders'] > 2]['users'], \n",
    "                      orders_ub[orders_ub['orders'] > 2]['users']], axis = 0), filtered_orders[filtered_orders['revenue'] > 414.275]\n",
    "                        ['visitorid']], axis = 0).drop_duplicates().sort_values()\n"
   ]
  },
  {
   "cell_type": "markdown",
   "id": "c8808ccc",
   "metadata": {},
   "source": [
    "I created a list of users (of both groups) who have more than 2 orders (the anomaly I previously defined) and of orders (of users of both groups) who placed orders priced over $414.275 (the anomaly I previously defined) - I called it \"abnormal_u\".  \n"
   ]
  },
  {
   "cell_type": "code",
   "execution_count": 60,
   "id": "66bc2b42",
   "metadata": {},
   "outputs": [
    {
     "name": "stdout",
     "output_type": "stream",
     "text": [
      "p-value: 0.012\n",
      "We reject the Null Hypothesis (H0) using significance level (alpha) of 0.05\n",
      "The relative loss/gain of group B is 18.2%\n"
     ]
    }
   ],
   "source": [
    "alpha = 0.05\n",
    "\n",
    "sample_af = pd.concat([orders_ua[np.logical_not(orders_ua['users'].isin(abnormal_u))]['orders'],\n",
    "                       pd.Series(0, index=np.arange(visits[visits['group']=='A']['visits'].sum()\n",
    "                                                    - len(orders_ua['orders'])),name='orders')],axis=0)\n",
    "\n",
    "sample_bf = pd.concat([orders_ub[np.logical_not(orders_ub['users'].isin(abnormal_u))]['orders'],\n",
    "                       pd.Series(0, index=np.arange(visits[visits['group']=='B']['visits'].sum()\n",
    "                                                    - len(orders_ub['orders'])),name='orders')],axis=0)\n",
    "\n",
    "\n",
    "results = stats.mannwhitneyu(sample_af, sample_bf)[1]\n",
    "\n",
    "print('p-value: {0:.3f}'.format(results))\n",
    "\n",
    "if results < alpha:\n",
    "    print(\"We reject the Null Hypothesis (H0) using significance level (alpha) of 0.05\")\n",
    "else:\n",
    "    print(\"We can't reject the Null Hypothesis (H0) using significance level (alpha) of 0.05\") \n",
    "print(\"The relative loss/gain of group B is {0:.1f}%\".format((sample_bf.mean()/sample_af.mean()-1)*100))"
   ]
  },
  {
   "cell_type": "markdown",
   "id": "c46a9b5a",
   "metadata": {},
   "source": [
    "##### Conclusions and Conjectures"
   ]
  },
  {
   "cell_type": "markdown",
   "id": "92907ff2",
   "metadata": {},
   "source": [
    "Based on the filtered data, using 0.05 significance level, the conversion rate of groups A and B is unequal.\n",
    "\n",
    "The alpha (0.05) is higher than the p-value - this means we reject the null hypothesis that the conversion rate of the two groups is equal. It should also be noted that the relative gain of group B is 18.2% - **by removing the anomalies, the p-value is smaller but group B's relative gain grew**.\n",
    " "
   ]
  },
  {
   "cell_type": "markdown",
   "id": "4ed2f474",
   "metadata": {},
   "source": [
    "#### Statistical Significance of the Difference in Average Order Size (Filtered Data)\n"
   ]
  },
  {
   "cell_type": "markdown",
   "id": "409351ad",
   "metadata": {},
   "source": [
    "Hereinafter, I will test the Null Hypothesis (H0) that group A's average order size is equal to that of group B in the **filtered data** (i.e., excluding outliers and anomalies).\n",
    "\n",
    "If rejected, the Alternative Hypothesis (H1) is that group A's average order size is NOT equal to that of group B.\n",
    "    \n"
   ]
  },
  {
   "cell_type": "markdown",
   "id": "c97b6886",
   "metadata": {},
   "source": [
    "##### Calculating the Statistical Significance of the Difference in Average Order Size "
   ]
  },
  {
   "cell_type": "code",
   "execution_count": 61,
   "id": "b85fd0f4",
   "metadata": {},
   "outputs": [
    {
     "name": "stdout",
     "output_type": "stream",
     "text": [
      "p-value: 0.680\n",
      "We can't reject the Null Hypothesis (H0) using significance level (alpha) of 0.05\n",
      "The relative loss/gain of group B is -4.7%\n"
     ]
    }
   ],
   "source": [
    "import warnings\n",
    "warnings.filterwarnings('ignore')\n",
    "alpha = 0.05\n",
    "\n",
    "results = stats.mannwhitneyu(filtered_orders[np.logical_and(filtered_orders['group']=='A',np.logical_not(orders['visitorid'].isin(abnormal_u)))]['revenue'],filtered_orders[np.logical_and(filtered_orders['group']=='B',np.logical_not(filtered_orders['visitorid'].isin(abnormal_u)))]['revenue'])[1]\n",
    "\n",
    "print('p-value: {:.3f}'.format(results))\n",
    "\n",
    "if results < alpha:\n",
    "    print(\"We reject the Null Hypothesis (H0) using significance level (alpha) of 0.05\")\n",
    "else:\n",
    "    print(\"We can't reject the Null Hypothesis (H0) using significance level (alpha) of 0.05\") \n",
    "print(\"The relative loss/gain of group B is {:.1f}%\".format((filtered_orders[np.logical_and(filtered_orders['group']=='B',np.logical_not(filtered_orders['visitorid'].isin(abnormal_u)))]['revenue'].mean()/filtered_orders[np.logical_and(filtered_orders['group']=='A',np.logical_not(filtered_orders['visitorid'].isin(abnormal_u)))]['revenue'].mean() - 1)*100))\n"
   ]
  },
  {
   "cell_type": "markdown",
   "id": "4d7fd601",
   "metadata": {},
   "source": [
    "##### Conclusions and Conjectures"
   ]
  },
  {
   "cell_type": "markdown",
   "id": "1a651332",
   "metadata": {},
   "source": [
    "Based on the filtered data, using 0.05 significance level, the average order size of groups A and B is equal.\n",
    "\n",
    "The p-value is higher than the alpha (0.05) - this means that we can't reject the null hypothesis that the average order size of the two groups is equal. It should also be noted that group B's average order size is smaller by 4.7% than it is for group A.\n",
    "\n",
    "**By removing the anomalies, the p-value is larger but group B's average order size shrank by more than 30%**.\n"
   ]
  },
  {
   "cell_type": "markdown",
   "id": "2fa30572",
   "metadata": {},
   "source": [
    "### Decision Based on the Test Results\n"
   ]
  },
  {
   "cell_type": "markdown",
   "id": "4d85a4ad",
   "metadata": {},
   "source": [
    "**Final Decision: Stop the test, group B is the leader of the two groups.** \n",
    "\n",
    "* Both raw and filtered data revealed unequal conversion rate between groups A and B.\n",
    "* Neither raw or filtered data revealed that average order size of groups A and B is unequal.\n",
    "* Recalling a previously shown graph, displaying the difference in conversion between the groups, we can see that group B's results are better than group A's and actually seem to be improving after a slight dip. Moreover, once the anomalies were removed group B's results were even higher, at 18%. \n"
   ]
  },
  {
   "cell_type": "code",
   "execution_count": 62,
   "id": "1154f74a",
   "metadata": {},
   "outputs": [
    {
     "data": {
      "image/png": "[encoded data removed]",
      "text/plain": [
       "<Figure size 936x360 with 1 Axes>"
      ]
     },
     "metadata": {
      "needs_background": "light"
     },
     "output_type": "display_data"
    }
   ],
   "source": [
    "plt.figure(figsize=(13, 5))\n",
    "plt.plot(mc_cumulative['date'], mc_cumulative['conversion_b']/\n",
    "         mc_cumulative['conversion_a']-1, color='mediumpurple')\n",
    "plt.axhline(y=0, color='black', linestyle='-.', linewidth=2)\n",
    "plt.axhline(y=-0.1, color='tomato', linestyle='-.', linewidth=2)\n",
    "plt.title('Relative Difference for the Conversion Rates', size=13)\n",
    "plt.ylabel('Relative Difference', size=10)\n",
    "plt.xlabel('Date', size=10)\n",
    "plt.grid(linewidth = 0.3)\n",
    "plt.show()"
   ]
  },
  {
   "cell_type": "markdown",
   "id": "89c8b1ac",
   "metadata": {},
   "source": [
    "* Recalling a previously shown graph, displaying the difference in average order size between the groups, we can see that group B's results were better than group A's, at times higher by more than 20%-40%. However, this was with the anomalies. Without the anomalies the difference is negative (-4.7%) - all things considered, it doesn't necessarily mean the group B won't catch up. \n"
   ]
  },
  {
   "cell_type": "code",
   "execution_count": 63,
   "id": "ab35b316",
   "metadata": {
    "scrolled": true
   },
   "outputs": [
    {
     "data": {
      "image/png": "[encoded data removed]",
      "text/plain": [
       "<Figure size 936x360 with 1 Axes>"
      ]
     },
     "metadata": {
      "needs_background": "light"
     },
     "output_type": "display_data"
    }
   ],
   "source": [
    "plt.figure(figsize=(13, 5))\n",
    "plt.plot(merged_cr['date'], (merged_cr['revenue_b']/merged_cr['orders_b'])/(merged_cr['revenue_a']/merged_cr\n",
    "                                                                            ['orders_a'])-1, color='mediumpurple')\n",
    "plt.axhline(y=0, color='black', linestyle='-.', linewidth=2) \n",
    "plt.title('Relative Difference for the Average Order Sizes', size=13)\n",
    "plt.ylabel('Relative Difference', size=10)\n",
    "plt.xlabel('Date', size=10)\n",
    "plt.grid(linewidth = 0.3)\n",
    "plt.show()"
   ]
  },
  {
   "cell_type": "markdown",
   "id": "8919570b",
   "metadata": {},
   "source": [
    "## Summary and Final Conclusions"
   ]
  },
  {
   "cell_type": "markdown",
   "id": "b21cd1e2",
   "metadata": {},
   "source": [
    "In this analysis I worked with 3 data frames:\n",
    "1. Hypotheses;\n",
    "2. Orders;\n",
    "3. Visits.\n",
    "\n",
    "At first glance, the data seemed intact, except for some incorrect data types and capital letters in columns' names. There were no missing values in the data frames.\n",
    "\n",
    "In the data preprocessing section I took the following steps: \n",
    "1. Turned the columns' names in the \"orders\" data frame to lowercase letters.\n",
    "2. Checked whether there were any duplicate rows in the \"orders\" and \"visits\" data frames. \n",
    "3. Turned the \"date\" column in the \"orders\" and \"visits\" data frames to datetime data types. \n",
    "4. Located 58 users in the \"orders\" data frame that were both in group A and in group B, users that would compromise the test.\n",
    "5. Created a new data frame called \"filtered_orders\", without said problematic users. Thus, this data frame now has 1016 rows and 5 columns.\n",
    "6. Checked whether there are dates with more than 3 groups or more than 2 unique groups - there are none.\n",
    "\n",
    "\n",
    "In the ICE/RICE prioritizing section:\n",
    "1. Found that the hypothesis with the highest ICE priority is hypothesis 8, next are 0 and 7, while the hypotheses with the lowest ICE priority are 5, 3 and 4.\n",
    "2. Found that the hypothesis with the highest RICE priority is hypothesis 7, next are 2 and 6, while the hypotheses with the lowest RICE priority are 5, 1 and 4. \n",
    "3. Compared the two and found the following:\n",
    "* The only difference between the two is: **R for Reach - how many users will be affected by the update**.\n",
    "* If the R is high, then the priority rises - for example, hypothesis 7 is to add a subscription form that will help the store compile a mailing list - this has the highest reach value, meaning you will reach all users that subscribe. This hypothesis is has also medium-high impact and confidence values and medium effort value - making it third in ICE priorities. \n",
    "* On the other hand, hypotheses 8 and 0, the first and second highest ICE priorities have low reach values, 1 and 3, respectively. Hypothesis 8 will only reach certain users at certain times (on their birthdays) and hypothesis 0, by its own account, will reach only 30% of users. \n",
    "* Hypotheses 2 and 6, second and third highest RICE priorities have 8 and 5 reach values, respectively. Both aim to boost the conversion of users to buyers. Even though hypothesis 6 has medium reach value it is high in confidence and low on effort - making it a win-win. \n",
    "* Another glaring difference in ICE/RICE priority are hypotheses 3 and 1, both the second to last in each. Hypothesis 3 has low impact and low confidence (both 3) and high effort - making it low in ICE priority. However, since by nature it will reach all users using the store's website, it has high reach value - removing it from the bottom 3 in RICE priority.\n",
    "* Hypothesis 1 has medium impact and confidence values and very high effort value (10) - in addition, its reach value is low (2). It might seem that adding a delivery service will affect a lot of users. But perhaps this service will be pricier than other delivery options given the store's online customers and they will prefer longer delivery at lower cost - hence the low reach. \n",
    "\n",
    "The Analysis of the A/B Test:\n",
    "    \n",
    "1. Both groups' cumulative revenue is rising steadily throughout the whole test. However, group B has a steep hike in revenue around August 18th and then revenue stabilizes again - this might imply either a surge in the number of orders placed or few orders that are more expansive. \n",
    "2. Both groups' cumulative average order sizes are erratic throughout the test, and while group A's average is fairly stable from mid-August, group B's was slowly declining after the steep hike previously noted. \n",
    "3. There are spikes in the difference, both at around August 7th and August 18th. Probably due to large orders made by group B (as previously suspected) and some outliers/anomalies.\n",
    "4. Group A's conversion rate was higher than that of group B's. Then, both spiked and dipped around the same time. However, once group A's conversion rate dipped, it kept slipping and then stabilized. On the other hand, group B's conversion rate recuperated and rose again. Both groups stabilized around the same time, August 21st, dipping at the end of August.\n",
    "5. At the beginning of the test, group B's conversion rate fell short of group A's. Then it took the lead, only to lag behind again and then climb. After that, it is still a little erratic and it's growing gradually at the end of the test. Overall, the conversion ratio is still a little erratic and unstable.\n",
    "6. The 95th percentile is 1 order per user and the 99th is 2 orders per user. This means that no more than 5% of users placed more than 1 order and only 1% more than 2. **I concluded that any more than 2 orders is considered an anomaly**.\n",
    "7. The 95th percentile is 414 USD per order. The 99th is 830 USD per order. This means that no more than 5% of orders cost more than 414 USD. Only 1% more than 830 USD. **I conclude that orders priced over 414.275 USD is considered an anomaly**.\n",
    "\n",
    "\n",
    "* Raw Data - Statistical Significance\n",
    "\n",
    "1. Based on the raw data, using 0.05 significance level, the conversion rate of groups A and B is unequal. The alpha (0.05) is higher than the p-value - this means we reject the null hypothesis that the conversion rate of the two groups is equal. It should also be noted that the relative gain of group B is 16%.\n",
    "2. Based on the raw data, using 0.05 significance level, the average order size of groups A and B is equal. The p-value is higher than the alpha (0.05) - this means that we can't reject the null hypothesis that the average order size of the two groups is equal. It should also be noted that group B's average order size is much bigger than it is for group A.\n",
    "\n",
    "* Filtered Data - Statistical Significance\n",
    "\n",
    "1. Based on the filtered data, using 0.05 significance level, the conversion rate of groups A and B is unequal. The alpha (0.05) is higher than the p-value - this means we reject the null hypothesis that the conversion rate of the two groups is equal. It should also be noted that the relative gain of group B is 18.2% - **by removing the anomalies, the p-value is smaller but group B's relative gain grew**.\n",
    "2. Based on the filtered data, using 0.05 significance level, the average order size of groups A and B is equal. The p-value is higher than the alpha (0.05) - this means that we can't reject the null hypothesis that the average order size of the two groups is equal. It should also be noted that group B's average order size is smaller by 4.7% than it is for group A.\n",
    "\n",
    "**By removing the anomalies, the p-value is larger but group B's average order size shrank by more than 30%**.\n",
    "\n",
    "**Decision Based on the Test Results**\n",
    "\n",
    "* Both raw and filtered data revealed unequal conversion rate between groups A and B.\n",
    "* Neither raw or filtered data revealed that average order size of groups A and B is unequal.\n",
    "* Difference in conversion between the groups - group B's results were better than group A's and actually seem to be improving after a slight dip. Moreover, once the anomalies were removed group B's results were even higher, at 18%. \n",
    "* Difference in average order size between the groups - group B's results were better than group A's, at times higher by more than 20%-40%. Without the anomalies the difference is negative (-4.7%) - all things considered, it doesn't necessarily mean the group B won't catch up. \n",
    "    \n",
    "**Final Decision: Stop the test, group B is the leader of the two groups.** \n",
    "\n",
    "\n",
    "\n",
    "\n",
    "\n",
    "\n"
   ]
  }
 ],
 "metadata": {
  "hide_input": false,
  "kernelspec": {
   "display_name": "Python 3 (ipykernel)",
   "language": "python",
   "name": "python3"
  },
  "language_info": {
   "codemirror_mode": {
    "name": "ipython",
    "version": 3
   },
   "file_extension": ".py",
   "mimetype": "text/x-python",
   "name": "python",
   "nbconvert_exporter": "python",
   "pygments_lexer": "ipython3",
   "version": "3.9.7"
  },
  "toc": {
   "base_numbering": 1,
   "nav_menu": {},
   "number_sections": true,
   "sideBar": true,
   "skip_h1_title": false,
   "title_cell": "Table of Contents",
   "title_sidebar": "Contents",
   "toc_cell": false,
   "toc_position": {
    "height": "calc(100% - 180px)",
    "left": "10px",
    "top": "150px",
    "width": "326.32px"
   },
   "toc_section_display": true,
   "toc_window_display": true
  },
  "varInspector": {
   "cols": {
    "lenName": 16,
    "lenType": 16,
    "lenVar": 40
   },
   "kernels_config": {
    "python": {
     "delete_cmd_postfix": "",
     "delete_cmd_prefix": "del ",
     "library": "var_list.py",
     "varRefreshCmd": "print(var_dic_list())"
    },
    "r": {
     "delete_cmd_postfix": ") ",
     "delete_cmd_prefix": "rm(",
     "library": "var_list.r",
     "varRefreshCmd": "cat(var_dic_list()) "
    }
   },
   "oldHeight": 209.836,
   "position": {
    "height": "231.832px",
    "left": "1241px",
    "right": "20px",
    "top": "119px",
    "width": "293.003px"
   },
   "types_to_exclude": [
    "module",
    "function",
    "builtin_function_or_method",
    "instance",
    "_Feature"
   ],
   "varInspector_section_display": "block",
   "window_display": false
  }
 },
 "nbformat": 4,
 "nbformat_minor": 5
}
